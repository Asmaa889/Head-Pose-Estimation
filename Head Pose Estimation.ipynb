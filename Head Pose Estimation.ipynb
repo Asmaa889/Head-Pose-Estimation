{
 "cells": [
  {
   "cell_type": "code",
   "execution_count": 1,
   "id": "cc70b1d4",
   "metadata": {
    "id": "cc70b1d4"
   },
   "outputs": [
    {
     "name": "stderr",
     "output_type": "stream",
     "text": [
      "C:\\Users\\asmaa mohammed\\AppData\\Roaming\\Python\\Python310\\site-packages\\requests\\__init__.py:102: RequestsDependencyWarning: urllib3 (1.26.9) or chardet (5.1.0)/charset_normalizer (2.0.12) doesn't match a supported version!\n",
      "  warnings.warn(\"urllib3 ({}) or chardet ({})/charset_normalizer ({}) doesn't match a supported \"\n"
     ]
    }
   ],
   "source": [
    "import cv2\n",
    "import os, sys\n",
    "import mediapipe as mp\n",
    "from math import cos, sin\n",
    "# from google.colab.patches import cv2_imshow\n",
    "import scipy.io as sio\n",
    "from sklearn.model_selection import train_test_split\n",
    "from sklearn.linear_model import LogisticRegression\n",
    "import matplotlib.pyplot as plt\n",
    "import numpy as np\n",
    "import pandas as pd\n"
   ]
  },
  {
   "cell_type": "code",
   "execution_count": 2,
   "id": "oNo8OeXZYbAS",
   "metadata": {
    "colab": {
     "base_uri": "https://localhost:8080/"
    },
    "executionInfo": {
     "elapsed": 23708,
     "status": "ok",
     "timestamp": 1677009021956,
     "user": {
      "displayName": "asmaa m.mansour",
      "userId": "08012431486127069488"
     },
     "user_tz": -120
    },
    "id": "oNo8OeXZYbAS",
    "outputId": "4b4cd5f0-727d-4981-9f72-9eac295e2318"
   },
   "outputs": [],
   "source": [
    "# from google.colab import drive\n",
    "# drive.mount('/content/drive')"
   ]
  },
  {
   "cell_type": "markdown",
   "id": "Guc9aCncrEE_",
   "metadata": {
    "id": "Guc9aCncrEE_"
   },
   "source": [
    "## A function to compute axes from angles"
   ]
  },
  {
   "cell_type": "code",
   "execution_count": 3,
   "id": "XzW6thASk7wY",
   "metadata": {
    "id": "XzW6thASk7wY"
   },
   "outputs": [],
   "source": [
    "def draw_axis(img, pitch,yaw,roll, tdx=None, tdy=None, size = 100):\n",
    "\n",
    "    yaw = -yaw\n",
    "    if tdx != None and tdy != None:\n",
    "        tdx = tdx\n",
    "        tdy = tdy\n",
    "    else:\n",
    "        height, width = img.shape[:2]\n",
    "        tdx = width / 2\n",
    "        tdy = height / 2\n",
    "\n",
    "    # X-Axis pointing to right. drawn in red\n",
    "    x1 = size * (cos(yaw) * cos(roll)) + tdx\n",
    "    y1 = size * (cos(pitch) * sin(roll) + cos(roll) * sin(pitch) * sin(yaw)) + tdy\n",
    "\n",
    "    # Y-Axis | drawn in green\n",
    "    x2 = size * (-cos(yaw) * sin(roll)) + tdx\n",
    "    y2 = size * (cos(pitch) * cos(roll) - sin(pitch) * sin(yaw) * sin(roll)) + tdy\n",
    "\n",
    "    # Z-Axis (out of the screen) drawn in blue\n",
    "    x3 = size * (sin(yaw)) + tdx\n",
    "    y3 = size * (-cos(yaw) * sin(pitch)) + tdy\n",
    "\n",
    "    cv2.line(img, (int(tdx), int(tdy)), (int(x1),int(y1)),(0,0,255),3)\n",
    "    cv2.line(img, (int(tdx), int(tdy)), (int(x2),int(y2)),(0,255,0),3)\n",
    "    cv2.line(img, (int(tdx), int(tdy)), (int(x3),int(y3)),(255,0,0),2)\n",
    "\n",
    "    return img"
   ]
  },
  {
   "cell_type": "code",
   "execution_count": 4,
   "id": "NbneafH_w7lR",
   "metadata": {
    "colab": {
     "base_uri": "https://localhost:8080/",
     "height": 467
    },
    "executionInfo": {
     "elapsed": 16991,
     "status": "ok",
     "timestamp": 1676920978313,
     "user": {
      "displayName": "asmaa m.mansour",
      "userId": "08012431486127069488"
     },
     "user_tz": -120
    },
    "id": "NbneafH_w7lR",
    "outputId": "080b653e-8841-4a44-d6ec-126e60b3567e"
   },
   "outputs": [],
   "source": [
    "# choosing random image\n",
    "random_file = 'image00053'\n",
    "image = cv2.imread(\"../AFLW2000/image00070.jpg\")\n",
    "# loading the mat file to extract the 3 angels of the face (pitch,yaw,roll)\n",
    "mat_file = sio.loadmat(\"../AFLW2000/image00070.mat\")\n",
    "# extracting the labels 3 angels\n",
    "pose_para = mat_file[\"Pose_Para\"][0][:3]\n",
    "pitch = pose_para[0]\n",
    "yaw = pose_para[1]\n",
    "roll = pose_para[2]\n",
    "\n",
    "cv2.imshow('HelloWorld', draw_axis(image,pitch,yaw,roll))\n",
    "cv2.waitKey(2000) \n",
    "cv2.destroyWindow('HelloWorld')\n",
    "# cv2_imshow()"
   ]
  },
  {
   "cell_type": "markdown",
   "id": "Tg-EhXter8_M",
   "metadata": {
    "id": "Tg-EhXter8_M"
   },
   "source": [
    "## Get Features and Labels"
   ]
  },
  {
   "cell_type": "code",
   "execution_count": 5,
   "id": "5Qp3Azz03kqK",
   "metadata": {
    "colab": {
     "base_uri": "https://localhost:8080/",
     "height": 467
    },
    "executionInfo": {
     "elapsed": 107308,
     "status": "ok",
     "timestamp": 1676921085617,
     "user": {
      "displayName": "asmaa m.mansour",
      "userId": "08012431486127069488"
     },
     "user_tz": -120
    },
    "id": "5Qp3Azz03kqK",
    "outputId": "f2c59628-e920-4d1b-cd18-ca46fce36bb6"
   },
   "outputs": [],
   "source": [
    "mp_drawing = mp.solutions.drawing_utils\n",
    "mp_face_mesh = mp.solutions.face_mesh\n",
    "\n",
    "# For static images:\n",
    "drawing_spec = mp_drawing.DrawingSpec(thickness=1, circle_radius=1)\n",
    "with mp_face_mesh.FaceMesh(\n",
    "    static_image_mode=True,\n",
    "    min_detection_confidence=0.5) as face_mesh:\n",
    "    \n",
    "    All_Images = []\n",
    "    # names = []\n",
    "    angle1, angle2, angle3 = [], [], []\n",
    "    for file_name in os.listdir(\"../AFLW2000\"):\n",
    "        if file_name.split(\".\")[-1].lower() in {\"jpeg\", \"jpg\", \"png\"}:\n",
    "            image = cv2.imread(\"../AFLW2000/\" + file_name)\n",
    "            # Convert the BGR image to RGB before processing.\n",
    "            results = face_mesh.process(cv2.cvtColor(image, cv2.COLOR_BGR2RGB))\n",
    "\n",
    "            if results.multi_face_landmarks != None:\n",
    "                OneImage = []\n",
    "                annotated_image = image.copy()\n",
    "\n",
    "                for face in results.multi_face_landmarks:\n",
    "                    #nose axes\n",
    "                    nose_x = int(face.landmark[1].x * image.shape[1])\n",
    "                    nose_y = int(face.landmark[1].y * image.shape[0])\n",
    "                    # chin axes\n",
    "                    chin_x = int(face.landmark[152].x * image.shape[1])\n",
    "                    chin_y = int(face.landmark[152].y * image.shape[0])\n",
    "                    # Max Dist\n",
    "                    dist_x = nose_x - chin_x\n",
    "                    dist_y = nose_y - chin_y\n",
    "\n",
    "                    dist = np.sqrt(dist_x**2 + dist_y**2)\n",
    "\n",
    "                    for landmark in face.landmark:\n",
    "                        x = landmark.x\n",
    "                        y = landmark.y\n",
    "\n",
    "                        shape = image.shape \n",
    "                        relative_x = int(x * shape[1])\n",
    "                        relative_y = int(y * shape[0])\n",
    "\n",
    "                        OneImage.append((relative_x- nose_x) / dist)\n",
    "                        OneImage.append((relative_y- nose_y) / dist)\n",
    "                        cv2.circle(image, (relative_x, relative_y), radius=1, color=(225, 0, 100), thickness=1)\n",
    "\n",
    "                All_Images.append(OneImage)\n",
    "            # names.append(file_name)\n",
    "\n",
    "                mat_file = sio.loadmat(\"../AFLW2000/\" + file_name.split(\".\")[0] + '.mat')\n",
    "                # extracting the labels 3 angels\n",
    "                pose_para = mat_file[\"Pose_Para\"][0][:3]\n",
    "                pitch = pose_para[0]\n",
    "                yaw = pose_para[1]\n",
    "                roll = pose_para[2]\n",
    "\n",
    "                angle1.append(pitch)\n",
    "                angle2.append(yaw)\n",
    "                angle3.append(roll)\n",
    "    \n",
    "# cv2_imshow(image)\n",
    "# cv2.imshow('HelloWorld', draw_axis(image,pitch,yaw,roll))\n",
    "# cv2.waitKey(0) \n",
    "# cv2.destroyWindow('HelloWorld')"
   ]
  },
  {
   "cell_type": "markdown",
   "id": "V4w67O40nhiW",
   "metadata": {
    "id": "V4w67O40nhiW"
   },
   "source": [
    "# convert data into dataframe"
   ]
  },
  {
   "cell_type": "code",
   "execution_count": 6,
   "id": "2d_cLmKQfhZK",
   "metadata": {
    "colab": {
     "base_uri": "https://localhost:8080/"
    },
    "executionInfo": {
     "elapsed": 19,
     "status": "ok",
     "timestamp": 1676921085617,
     "user": {
      "displayName": "asmaa m.mansour",
      "userId": "08012431486127069488"
     },
     "user_tz": -120
    },
    "id": "2d_cLmKQfhZK",
    "outputId": "9d409fdc-a874-40cc-fe45-06259a717c93"
   },
   "outputs": [
    {
     "name": "stdout",
     "output_type": "stream",
     "text": [
      "936\n"
     ]
    }
   ],
   "source": [
    "columns = []\n",
    "for i in range((len(All_Images[0])//2)):\n",
    "    columns.append(('x' + str(i)))\n",
    "    columns.append(('y' + str(i)))\n",
    "\n",
    "print(len(columns))"
   ]
  },
  {
   "cell_type": "code",
   "execution_count": 7,
   "id": "sszEmPvaZ2ZC",
   "metadata": {
    "id": "sszEmPvaZ2ZC"
   },
   "outputs": [],
   "source": [
    "df = pd.DataFrame(All_Images, columns = columns)\n",
    "df['pitch'] = angle1\n",
    "df['yaw'] = angle2\n",
    "df['roll'] = angle3\n",
    "# df['names'] = names"
   ]
  },
  {
   "cell_type": "code",
   "execution_count": 8,
   "id": "1IWMdxaDhn1P",
   "metadata": {
    "colab": {
     "base_uri": "https://localhost:8080/",
     "height": 299
    },
    "executionInfo": {
     "elapsed": 15,
     "status": "ok",
     "timestamp": 1676921085618,
     "user": {
      "displayName": "asmaa m.mansour",
      "userId": "08012431486127069488"
     },
     "user_tz": -120
    },
    "id": "1IWMdxaDhn1P",
    "outputId": "dda354ba-d088-483e-d51b-be51371da8c2"
   },
   "outputs": [
    {
     "data": {
      "text/html": [
       "<div>\n",
       "<style scoped>\n",
       "    .dataframe tbody tr th:only-of-type {\n",
       "        vertical-align: middle;\n",
       "    }\n",
       "\n",
       "    .dataframe tbody tr th {\n",
       "        vertical-align: top;\n",
       "    }\n",
       "\n",
       "    .dataframe thead th {\n",
       "        text-align: right;\n",
       "    }\n",
       "</style>\n",
       "<table border=\"1\" class=\"dataframe\">\n",
       "  <thead>\n",
       "    <tr style=\"text-align: right;\">\n",
       "      <th></th>\n",
       "      <th>x0</th>\n",
       "      <th>y0</th>\n",
       "      <th>x1</th>\n",
       "      <th>y1</th>\n",
       "      <th>x2</th>\n",
       "      <th>y2</th>\n",
       "      <th>x3</th>\n",
       "      <th>y3</th>\n",
       "      <th>x4</th>\n",
       "      <th>y4</th>\n",
       "      <th>...</th>\n",
       "      <th>y464</th>\n",
       "      <th>x465</th>\n",
       "      <th>y465</th>\n",
       "      <th>x466</th>\n",
       "      <th>y466</th>\n",
       "      <th>x467</th>\n",
       "      <th>y467</th>\n",
       "      <th>pitch</th>\n",
       "      <th>yaw</th>\n",
       "      <th>roll</th>\n",
       "    </tr>\n",
       "  </thead>\n",
       "  <tbody>\n",
       "    <tr>\n",
       "      <th>0</th>\n",
       "      <td>-0.023515</td>\n",
       "      <td>0.258662</td>\n",
       "      <td>0.0</td>\n",
       "      <td>0.0</td>\n",
       "      <td>0.000000</td>\n",
       "      <td>0.047030</td>\n",
       "      <td>-0.058787</td>\n",
       "      <td>-0.399751</td>\n",
       "      <td>0.000000</td>\n",
       "      <td>-0.094059</td>\n",
       "      <td>...</td>\n",
       "      <td>-0.775987</td>\n",
       "      <td>0.270420</td>\n",
       "      <td>-0.728958</td>\n",
       "      <td>0.928833</td>\n",
       "      <td>-0.881804</td>\n",
       "      <td>0.987620</td>\n",
       "      <td>-0.928833</td>\n",
       "      <td>-0.399231</td>\n",
       "      <td>0.018227</td>\n",
       "      <td>0.085676</td>\n",
       "    </tr>\n",
       "    <tr>\n",
       "      <th>1</th>\n",
       "      <td>0.138885</td>\n",
       "      <td>0.277770</td>\n",
       "      <td>0.0</td>\n",
       "      <td>0.0</td>\n",
       "      <td>0.176763</td>\n",
       "      <td>0.101007</td>\n",
       "      <td>0.113633</td>\n",
       "      <td>-0.265144</td>\n",
       "      <td>0.000000</td>\n",
       "      <td>-0.088381</td>\n",
       "      <td>...</td>\n",
       "      <td>-0.454532</td>\n",
       "      <td>0.479784</td>\n",
       "      <td>-0.441907</td>\n",
       "      <td>0.959568</td>\n",
       "      <td>-0.517662</td>\n",
       "      <td>1.010072</td>\n",
       "      <td>-0.555540</td>\n",
       "      <td>0.470065</td>\n",
       "      <td>1.189533</td>\n",
       "      <td>0.300959</td>\n",
       "    </tr>\n",
       "    <tr>\n",
       "      <th>2</th>\n",
       "      <td>-0.022704</td>\n",
       "      <td>0.227038</td>\n",
       "      <td>0.0</td>\n",
       "      <td>0.0</td>\n",
       "      <td>-0.022704</td>\n",
       "      <td>0.045408</td>\n",
       "      <td>-0.113519</td>\n",
       "      <td>-0.317854</td>\n",
       "      <td>0.000000</td>\n",
       "      <td>-0.090815</td>\n",
       "      <td>...</td>\n",
       "      <td>-0.567596</td>\n",
       "      <td>0.068111</td>\n",
       "      <td>-0.544892</td>\n",
       "      <td>0.544892</td>\n",
       "      <td>-0.658411</td>\n",
       "      <td>0.567596</td>\n",
       "      <td>-0.681115</td>\n",
       "      <td>-0.184650</td>\n",
       "      <td>0.881137</td>\n",
       "      <td>-0.236852</td>\n",
       "    </tr>\n",
       "    <tr>\n",
       "      <th>3</th>\n",
       "      <td>0.180710</td>\n",
       "      <td>0.216852</td>\n",
       "      <td>0.0</td>\n",
       "      <td>0.0</td>\n",
       "      <td>0.108426</td>\n",
       "      <td>0.024095</td>\n",
       "      <td>-0.144568</td>\n",
       "      <td>-0.349372</td>\n",
       "      <td>-0.048189</td>\n",
       "      <td>-0.096379</td>\n",
       "      <td>...</td>\n",
       "      <td>-0.783076</td>\n",
       "      <td>0.108426</td>\n",
       "      <td>-0.734886</td>\n",
       "      <td>0.686697</td>\n",
       "      <td>-1.072211</td>\n",
       "      <td>0.722839</td>\n",
       "      <td>-1.132448</td>\n",
       "      <td>-0.175379</td>\n",
       "      <td>0.299208</td>\n",
       "      <td>-0.373374</td>\n",
       "    </tr>\n",
       "    <tr>\n",
       "      <th>4</th>\n",
       "      <td>0.078158</td>\n",
       "      <td>0.283321</td>\n",
       "      <td>0.0</td>\n",
       "      <td>0.0</td>\n",
       "      <td>0.029309</td>\n",
       "      <td>0.087927</td>\n",
       "      <td>-0.107467</td>\n",
       "      <td>-0.273552</td>\n",
       "      <td>-0.019539</td>\n",
       "      <td>-0.087927</td>\n",
       "      <td>...</td>\n",
       "      <td>-0.517794</td>\n",
       "      <td>0.058618</td>\n",
       "      <td>-0.498255</td>\n",
       "      <td>0.488485</td>\n",
       "      <td>-0.674110</td>\n",
       "      <td>0.527564</td>\n",
       "      <td>-0.693649</td>\n",
       "      <td>-0.026812</td>\n",
       "      <td>0.011965</td>\n",
       "      <td>-0.220662</td>\n",
       "    </tr>\n",
       "  </tbody>\n",
       "</table>\n",
       "<p>5 rows × 939 columns</p>\n",
       "</div>"
      ],
      "text/plain": [
       "         x0        y0   x1   y1        x2        y2        x3        y3  \\\n",
       "0 -0.023515  0.258662  0.0  0.0  0.000000  0.047030 -0.058787 -0.399751   \n",
       "1  0.138885  0.277770  0.0  0.0  0.176763  0.101007  0.113633 -0.265144   \n",
       "2 -0.022704  0.227038  0.0  0.0 -0.022704  0.045408 -0.113519 -0.317854   \n",
       "3  0.180710  0.216852  0.0  0.0  0.108426  0.024095 -0.144568 -0.349372   \n",
       "4  0.078158  0.283321  0.0  0.0  0.029309  0.087927 -0.107467 -0.273552   \n",
       "\n",
       "         x4        y4  ...      y464      x465      y465      x466      y466  \\\n",
       "0  0.000000 -0.094059  ... -0.775987  0.270420 -0.728958  0.928833 -0.881804   \n",
       "1  0.000000 -0.088381  ... -0.454532  0.479784 -0.441907  0.959568 -0.517662   \n",
       "2  0.000000 -0.090815  ... -0.567596  0.068111 -0.544892  0.544892 -0.658411   \n",
       "3 -0.048189 -0.096379  ... -0.783076  0.108426 -0.734886  0.686697 -1.072211   \n",
       "4 -0.019539 -0.087927  ... -0.517794  0.058618 -0.498255  0.488485 -0.674110   \n",
       "\n",
       "       x467      y467     pitch       yaw      roll  \n",
       "0  0.987620 -0.928833 -0.399231  0.018227  0.085676  \n",
       "1  1.010072 -0.555540  0.470065  1.189533  0.300959  \n",
       "2  0.567596 -0.681115 -0.184650  0.881137 -0.236852  \n",
       "3  0.722839 -1.132448 -0.175379  0.299208 -0.373374  \n",
       "4  0.527564 -0.693649 -0.026812  0.011965 -0.220662  \n",
       "\n",
       "[5 rows x 939 columns]"
      ]
     },
     "execution_count": 8,
     "metadata": {},
     "output_type": "execute_result"
    }
   ],
   "source": [
    "df.head()"
   ]
  },
  {
   "cell_type": "markdown",
   "id": "fiyfFYoJJVZ-",
   "metadata": {
    "id": "fiyfFYoJJVZ-"
   },
   "source": [
    "### split data"
   ]
  },
  {
   "cell_type": "code",
   "execution_count": 9,
   "id": "nMNCa_qAhzbN",
   "metadata": {
    "colab": {
     "base_uri": "https://localhost:8080/",
     "height": 206
    },
    "executionInfo": {
     "elapsed": 28,
     "status": "ok",
     "timestamp": 1676922901428,
     "user": {
      "displayName": "asmaa m.mansour",
      "userId": "08012431486127069488"
     },
     "user_tz": -120
    },
    "id": "nMNCa_qAhzbN",
    "outputId": "3324ad72-d1fe-4b9e-bdf3-727f11893c22"
   },
   "outputs": [
    {
     "data": {
      "text/html": [
       "<div>\n",
       "<style scoped>\n",
       "    .dataframe tbody tr th:only-of-type {\n",
       "        vertical-align: middle;\n",
       "    }\n",
       "\n",
       "    .dataframe tbody tr th {\n",
       "        vertical-align: top;\n",
       "    }\n",
       "\n",
       "    .dataframe thead th {\n",
       "        text-align: right;\n",
       "    }\n",
       "</style>\n",
       "<table border=\"1\" class=\"dataframe\">\n",
       "  <thead>\n",
       "    <tr style=\"text-align: right;\">\n",
       "      <th></th>\n",
       "      <th>pitch</th>\n",
       "      <th>yaw</th>\n",
       "      <th>roll</th>\n",
       "    </tr>\n",
       "  </thead>\n",
       "  <tbody>\n",
       "    <tr>\n",
       "      <th>0</th>\n",
       "      <td>-0.399231</td>\n",
       "      <td>0.018227</td>\n",
       "      <td>0.085676</td>\n",
       "    </tr>\n",
       "    <tr>\n",
       "      <th>1</th>\n",
       "      <td>0.470065</td>\n",
       "      <td>1.189533</td>\n",
       "      <td>0.300959</td>\n",
       "    </tr>\n",
       "    <tr>\n",
       "      <th>2</th>\n",
       "      <td>-0.184650</td>\n",
       "      <td>0.881137</td>\n",
       "      <td>-0.236852</td>\n",
       "    </tr>\n",
       "    <tr>\n",
       "      <th>3</th>\n",
       "      <td>-0.175379</td>\n",
       "      <td>0.299208</td>\n",
       "      <td>-0.373374</td>\n",
       "    </tr>\n",
       "    <tr>\n",
       "      <th>4</th>\n",
       "      <td>-0.026812</td>\n",
       "      <td>0.011965</td>\n",
       "      <td>-0.220662</td>\n",
       "    </tr>\n",
       "  </tbody>\n",
       "</table>\n",
       "</div>"
      ],
      "text/plain": [
       "      pitch       yaw      roll\n",
       "0 -0.399231  0.018227  0.085676\n",
       "1  0.470065  1.189533  0.300959\n",
       "2 -0.184650  0.881137 -0.236852\n",
       "3 -0.175379  0.299208 -0.373374\n",
       "4 -0.026812  0.011965 -0.220662"
      ]
     },
     "execution_count": 9,
     "metadata": {},
     "output_type": "execute_result"
    }
   ],
   "source": [
    "X = df.drop(columns = ['pitch', 'yaw', 'roll'])\n",
    "y = df.iloc[:,-3:]\n",
    "y.head()"
   ]
  },
  {
   "cell_type": "markdown",
   "id": "YfeEEJpnajIc",
   "metadata": {
    "id": "YfeEEJpnajIc"
   },
   "source": [
    "## Split data to train, val, test"
   ]
  },
  {
   "cell_type": "code",
   "execution_count": 10,
   "id": "sgEG99k1JFxr",
   "metadata": {
    "id": "sgEG99k1JFxr"
   },
   "outputs": [],
   "source": [
    "X_train, X_test, y_train, y_test = train_test_split(X, y, test_size = 0.3, random_state=42, shuffle = True)"
   ]
  },
  {
   "cell_type": "code",
   "execution_count": 11,
   "id": "HAnZqYoiJJ-7",
   "metadata": {
    "id": "HAnZqYoiJJ-7"
   },
   "outputs": [],
   "source": [
    "X_val, X_test, y_val, y_test = train_test_split(X_test, y_test, test_size = 0.5, random_state=42)"
   ]
  },
  {
   "cell_type": "markdown",
   "id": "tZc0XnWxKK_b",
   "metadata": {
    "id": "tZc0XnWxKK_b"
   },
   "source": [
    "# Models\n",
    "- LinearRegression\n",
    "- SVR\n",
    "- XGBoost\n",
    "- GradientBoostingRegressor\n",
    "- Ada Boost\n",
    "- SGD Regressor"
   ]
  },
  {
   "cell_type": "markdown",
   "id": "tP-RAnOCanrN",
   "metadata": {
    "id": "tP-RAnOCanrN"
   },
   "source": [
    "## Models for pitch"
   ]
  },
  {
   "cell_type": "code",
   "execution_count": 12,
   "id": "uNrTHaZleCvk",
   "metadata": {
    "colab": {
     "base_uri": "https://localhost:8080/"
    },
    "executionInfo": {
     "elapsed": 15,
     "status": "ok",
     "timestamp": 1676921085621,
     "user": {
      "displayName": "asmaa m.mansour",
      "userId": "08012431486127069488"
     },
     "user_tz": -120
    },
    "id": "uNrTHaZleCvk",
    "outputId": "19b09cb1-3c86-4ecb-9039-ec08a19d07f2"
   },
   "outputs": [
    {
     "data": {
      "text/plain": [
       "(278,)"
      ]
     },
     "execution_count": 12,
     "metadata": {},
     "output_type": "execute_result"
    }
   ],
   "source": [
    "y_val.iloc[:, 0].shape"
   ]
  },
  {
   "cell_type": "code",
   "execution_count": 13,
   "id": "_hePEaOAJNGo",
   "metadata": {
    "id": "_hePEaOAJNGo"
   },
   "outputs": [],
   "source": [
    "from sklearn.linear_model import LinearRegression\n",
    "lr1 = LinearRegression().fit(X_train, y_train.iloc[:,0])\n",
    "lr1_pred = lr1.predict(X_val)"
   ]
  },
  {
   "cell_type": "code",
   "execution_count": 14,
   "id": "odRyqOAbKNp3",
   "metadata": {
    "id": "odRyqOAbKNp3"
   },
   "outputs": [],
   "source": [
    "from sklearn.svm import SVR\n",
    "svr1 = SVR().fit(X_train, y_train.iloc[:,0])\n",
    "svr1_pred = svr1.predict(X_val)"
   ]
  },
  {
   "cell_type": "code",
   "execution_count": 15,
   "id": "jYmU7W9hJxD-",
   "metadata": {
    "colab": {
     "base_uri": "https://localhost:8080/"
    },
    "executionInfo": {
     "elapsed": 1961,
     "status": "ok",
     "timestamp": 1676921088345,
     "user": {
      "displayName": "asmaa m.mansour",
      "userId": "08012431486127069488"
     },
     "user_tz": -120
    },
    "id": "jYmU7W9hJxD-",
    "outputId": "4877a66f-5d13-4b4f-cf92-738966f282dc"
   },
   "outputs": [],
   "source": [
    "from xgboost import XGBRegressor\n",
    "xgb_reg1 = XGBRegressor().fit(X_train, y_train.iloc[:,0])\n",
    "xgb1_pred = xgb_reg1.predict(X_val)"
   ]
  },
  {
   "cell_type": "code",
   "execution_count": 16,
   "id": "HcLs_nozl4Xb",
   "metadata": {
    "id": "HcLs_nozl4Xb"
   },
   "outputs": [],
   "source": [
    "from sklearn.ensemble import GradientBoostingRegressor\n",
    "gbr1 = GradientBoostingRegressor().fit(X_train, y_train.iloc[:,0])\n",
    "gbr1_pred = gbr1.predict(X_val)"
   ]
  },
  {
   "cell_type": "code",
   "execution_count": 17,
   "id": "698844ac",
   "metadata": {},
   "outputs": [],
   "source": [
    "from sklearn.ensemble import AdaBoostRegressor\n",
    "ada1 = AdaBoostRegressor().fit(X_train, y_train.iloc[:,0])\n",
    "ada1_pred = ada1.predict(X_val)"
   ]
  },
  {
   "cell_type": "code",
   "execution_count": 18,
   "id": "727c79db",
   "metadata": {},
   "outputs": [],
   "source": [
    "from sklearn.linear_model import SGDRegressor\n",
    "sgd1 = SGDRegressor().fit(X_train, y_train.iloc[:,0])\n",
    "sgd1_pred = sgd1.predict(X_val)"
   ]
  },
  {
   "cell_type": "code",
   "execution_count": 19,
   "id": "j_oWlFQ7Lk9x",
   "metadata": {
    "colab": {
     "base_uri": "https://localhost:8080/"
    },
    "executionInfo": {
     "elapsed": 44,
     "status": "ok",
     "timestamp": 1676921127904,
     "user": {
      "displayName": "asmaa m.mansour",
      "userId": "08012431486127069488"
     },
     "user_tz": -120
    },
    "id": "j_oWlFQ7Lk9x",
    "outputId": "13544aa9-0f19-4c2e-f119-d2670da6eb27"
   },
   "outputs": [
    {
     "name": "stdout",
     "output_type": "stream",
     "text": [
      "linear regression score:  -5.292982059478126\n",
      "SVM score:  0.6581026137255971\n",
      "XGBoost:  -7.709833716597348\n",
      "GBR:  -3.86304891358178\n",
      "Ada Boost:  -7.813464354923312\n",
      "SGD Regressor:  0.36527981714205837\n"
     ]
    }
   ],
   "source": [
    "print(\"linear regression score: \", lr1.score(X_val, y_val.iloc[:,0]))\n",
    "print(\"SVM score: \", svr1.score(X_val, y_val.iloc[:,0]))\n",
    "print(\"XGBoost: \", xgb_reg1.score(X_val, y_val.iloc[:,0]))\n",
    "print(\"GBR: \", gbr1.score(X_val, y_val.iloc[:,0]))\n",
    "print(\"Ada Boost: \", ada1.score(X_val, y_val.iloc[:,0]))\n",
    "print(\"SGD Regressor: \", sgd1.score(X_val, y_val.iloc[:,0]))"
   ]
  },
  {
   "cell_type": "code",
   "execution_count": 20,
   "id": "GBclLoh8MoNz",
   "metadata": {
    "colab": {
     "base_uri": "https://localhost:8080/"
    },
    "executionInfo": {
     "elapsed": 33,
     "status": "ok",
     "timestamp": 1676921127905,
     "user": {
      "displayName": "asmaa m.mansour",
      "userId": "08012431486127069488"
     },
     "user_tz": -120
    },
    "id": "GBclLoh8MoNz",
    "outputId": "b83ec232-9026-4428-eba4-f5bf4f80e1df"
   },
   "outputs": [
    {
     "name": "stdout",
     "output_type": "stream",
     "text": [
      "mean square error of pitch (linear regression):  0.7012003893956599\n",
      "mean square error of pitch (SVR):  0.03809618049488783\n",
      "mean square error of pitch (XGBoost):  0.9704999531106221\n",
      "mean square error of pitch (Gradient boosting):  0.5418689835159759\n",
      "mean square error of pitch (Ada boost):  0.9820470770751727\n",
      "mean square error of pitch (SGD Regressor):  0.07072418690705472\n"
     ]
    }
   ],
   "source": [
    "from sklearn.metrics import mean_squared_error, mean_absolute_error\n",
    "print(\"mean square error of pitch (linear regression): \",mean_squared_error(y_val.iloc[:,0], lr1_pred))\n",
    "print(\"mean square error of pitch (SVR): \", mean_squared_error(y_val.iloc[:,0], svr1_pred))\n",
    "print(\"mean square error of pitch (XGBoost): \", mean_squared_error(y_val.iloc[:,0], xgb1_pred))\n",
    "print(\"mean square error of pitch (Gradient boosting): \", mean_squared_error(y_val.iloc[:,0], gbr1_pred))\n",
    "print(\"mean square error of pitch (Ada boost): \", mean_squared_error(y_val.iloc[:,0], ada1_pred))\n",
    "print(\"mean square error of pitch (SGD Regressor): \", mean_squared_error(y_val.iloc[:,0], sgd1_pred))"
   ]
  },
  {
   "cell_type": "markdown",
   "id": "BSSwHDWhaw24",
   "metadata": {
    "id": "BSSwHDWhaw24"
   },
   "source": [
    "## Models for yaw"
   ]
  },
  {
   "cell_type": "code",
   "execution_count": 21,
   "id": "X3wha6aAv9Lj",
   "metadata": {
    "id": "X3wha6aAv9Lj"
   },
   "outputs": [],
   "source": [
    "lr2 = LinearRegression().fit(X_train, y_train.iloc[:,1])\n",
    "lr2_pred = lr2.predict(X_val)"
   ]
  },
  {
   "cell_type": "code",
   "execution_count": 22,
   "id": "2AgxJUbE3pRj",
   "metadata": {
    "id": "2AgxJUbE3pRj"
   },
   "outputs": [],
   "source": [
    "svr2 = SVR().fit(X_train, y_train.iloc[:,1])\n",
    "svr2_pred = svr2.predict(X_val)"
   ]
  },
  {
   "cell_type": "code",
   "execution_count": 23,
   "id": "mDoBISkhyXlj",
   "metadata": {
    "colab": {
     "base_uri": "https://localhost:8080/"
    },
    "executionInfo": {
     "elapsed": 13593,
     "status": "ok",
     "timestamp": 1676921143265,
     "user": {
      "displayName": "asmaa m.mansour",
      "userId": "08012431486127069488"
     },
     "user_tz": -120
    },
    "id": "mDoBISkhyXlj",
    "outputId": "19aa686f-adb0-4477-b796-70774ed221f0"
   },
   "outputs": [],
   "source": [
    "xgb_reg2 = XGBRegressor().fit(X_train, y_train.iloc[:,1])\n",
    "xgb2_pred = xgb_reg2.predict(X_val)"
   ]
  },
  {
   "cell_type": "code",
   "execution_count": 24,
   "id": "VcF6AbcLJCK1",
   "metadata": {
    "id": "VcF6AbcLJCK1"
   },
   "outputs": [],
   "source": [
    "gbr2 = GradientBoostingRegressor().fit(X_train, y_train.iloc[:,1])\n",
    "gbr2_pred = gbr2.predict(X_val)"
   ]
  },
  {
   "cell_type": "code",
   "execution_count": 25,
   "id": "7817e6e1",
   "metadata": {},
   "outputs": [],
   "source": [
    "ada2 = AdaBoostRegressor().fit(X_train, y_train.iloc[:,1])\n",
    "ada2_pred = ada2.predict(X_val)"
   ]
  },
  {
   "cell_type": "code",
   "execution_count": 26,
   "id": "5e470859",
   "metadata": {},
   "outputs": [],
   "source": [
    "sgd2 = SGDRegressor().fit(X_train, y_train.iloc[:,1])\n",
    "sgd2_pred = sgd2.predict(X_val)"
   ]
  },
  {
   "cell_type": "code",
   "execution_count": 27,
   "id": "u7-0WoNRyBjg",
   "metadata": {
    "colab": {
     "base_uri": "https://localhost:8080/"
    },
    "executionInfo": {
     "elapsed": 438,
     "status": "ok",
     "timestamp": 1676921188644,
     "user": {
      "displayName": "asmaa m.mansour",
      "userId": "08012431486127069488"
     },
     "user_tz": -120
    },
    "id": "u7-0WoNRyBjg",
    "outputId": "c825b29b-dc97-4922-c182-6709e94b1481"
   },
   "outputs": [
    {
     "name": "stdout",
     "output_type": "stream",
     "text": [
      "linear regression score:  0.5285424825008779\n",
      "SVM score:  0.9136129877750628\n",
      "XGBoost:  0.4647156899060283\n",
      "GBR:  0.7588056709475324\n",
      "Ada Boost:  0.8535445983861959\n",
      "SGD Regressor:  0.8941290337047769\n"
     ]
    }
   ],
   "source": [
    "print(\"linear regression score: \", lr2.score(X_val, y_val.iloc[:,1]))\n",
    "print(\"SVM score: \", svr2.score(X_val, y_val.iloc[:,1]))\n",
    "print(\"XGBoost: \", xgb_reg2.score(X_val, y_val.iloc[:,1]))\n",
    "print(\"GBR: \", gbr2.score(X_val, y_val.iloc[:,1]))\n",
    "print(\"Ada Boost: \", ada2.score(X_val, y_val.iloc[:,1]))\n",
    "print(\"SGD Regressor: \", sgd2.score(X_val, y_val.iloc[:,1]))"
   ]
  },
  {
   "cell_type": "code",
   "execution_count": 28,
   "id": "7kztVGZu_kly",
   "metadata": {
    "colab": {
     "base_uri": "https://localhost:8080/"
    },
    "executionInfo": {
     "elapsed": 14,
     "status": "ok",
     "timestamp": 1676921188645,
     "user": {
      "displayName": "asmaa m.mansour",
      "userId": "08012431486127069488"
     },
     "user_tz": -120
    },
    "id": "7kztVGZu_kly",
    "outputId": "fb40718a-00bf-47ed-9997-6ac1ec78b7f7"
   },
   "outputs": [
    {
     "name": "stdout",
     "output_type": "stream",
     "text": [
      "mean square error of yaw (linear regression):  0.13749639368039415\n",
      "mean square error of yaw (SVR):  0.02519400412737102\n",
      "mean square error of yaw (XGBoost):  0.15611091031495952\n",
      "mean square error of yaw (Gradient boosting):  0.07034218182964569\n",
      "mean square error of yaw (Ada boost):  0.042712415879442064\n",
      "mean square error of yaw (SGD Regressor):  0.030876326117928208\n"
     ]
    }
   ],
   "source": [
    "print(\"mean square error of yaw (linear regression): \",mean_squared_error(y_val.iloc[:,1], lr2_pred))\n",
    "print(\"mean square error of yaw (SVR): \", mean_squared_error(y_val.iloc[:,1], svr2_pred))\n",
    "print(\"mean square error of yaw (XGBoost): \", mean_squared_error(y_val.iloc[:,1], xgb2_pred))\n",
    "print(\"mean square error of yaw (Gradient boosting): \", mean_squared_error(y_val.iloc[:,1], gbr2_pred))\n",
    "print(\"mean square error of yaw (Ada boost): \", mean_squared_error(y_val.iloc[:,1], ada2_pred))\n",
    "print(\"mean square error of yaw (SGD Regressor): \", mean_squared_error(y_val.iloc[:,1], sgd2_pred))"
   ]
  },
  {
   "cell_type": "markdown",
   "id": "g-c3i0K2a28w",
   "metadata": {
    "id": "g-c3i0K2a28w"
   },
   "source": [
    "## Models for roll"
   ]
  },
  {
   "cell_type": "code",
   "execution_count": 29,
   "id": "ofu-5_y2-Ybw",
   "metadata": {
    "id": "ofu-5_y2-Ybw"
   },
   "outputs": [],
   "source": [
    "lr3 = LinearRegression().fit(X_train, y_train.iloc[:,2])\n",
    "lr3_pred = lr3.predict(X_val)"
   ]
  },
  {
   "cell_type": "code",
   "execution_count": 30,
   "id": "YIcgQiFrOIDK",
   "metadata": {
    "id": "YIcgQiFrOIDK"
   },
   "outputs": [],
   "source": [
    "svr3 = SVR().fit(X_train, y_train.iloc[:,2])\n",
    "svr3_pred = svr3.predict(X_val)"
   ]
  },
  {
   "cell_type": "code",
   "execution_count": 31,
   "id": "33B0penFOTyN",
   "metadata": {
    "colab": {
     "base_uri": "https://localhost:8080/"
    },
    "executionInfo": {
     "elapsed": 8818,
     "status": "ok",
     "timestamp": 1676921198996,
     "user": {
      "displayName": "asmaa m.mansour",
      "userId": "08012431486127069488"
     },
     "user_tz": -120
    },
    "id": "33B0penFOTyN",
    "outputId": "62418a1d-5810-4cab-8afb-19a938d2569a"
   },
   "outputs": [],
   "source": [
    "xgb_reg3 = XGBRegressor().fit(X_train, y_train.iloc[:,2])\n",
    "xgb3_pred = xgb_reg3.predict(X_val)"
   ]
  },
  {
   "cell_type": "code",
   "execution_count": 32,
   "id": "nsAfcYKeJUgW",
   "metadata": {
    "id": "nsAfcYKeJUgW"
   },
   "outputs": [],
   "source": [
    "gbr3 = GradientBoostingRegressor().fit(X_train, y_train.iloc[:,2])\n",
    "gbr3_pred = gbr3.predict(X_val)"
   ]
  },
  {
   "cell_type": "code",
   "execution_count": 33,
   "id": "120bbde1",
   "metadata": {},
   "outputs": [],
   "source": [
    "ada3 = AdaBoostRegressor().fit(X_train, y_train.iloc[:,2])\n",
    "ada3_pred = ada3.predict(X_val)"
   ]
  },
  {
   "cell_type": "code",
   "execution_count": 34,
   "id": "7402e06c",
   "metadata": {},
   "outputs": [],
   "source": [
    "sgd3 = SGDRegressor().fit(X_train, y_train.iloc[:,2])\n",
    "sgd3_pred = sgd3.predict(X_val)"
   ]
  },
  {
   "cell_type": "code",
   "execution_count": 35,
   "id": "pmylbq9qOvft",
   "metadata": {
    "colab": {
     "base_uri": "https://localhost:8080/"
    },
    "executionInfo": {
     "elapsed": 46,
     "status": "ok",
     "timestamp": 1676921237214,
     "user": {
      "displayName": "asmaa m.mansour",
      "userId": "08012431486127069488"
     },
     "user_tz": -120
    },
    "id": "pmylbq9qOvft",
    "outputId": "1acb777f-e829-41e0-eee0-1951dab8f0ad"
   },
   "outputs": [
    {
     "name": "stdout",
     "output_type": "stream",
     "text": [
      "linear regression score:  -2.094002735190261\n",
      "SVM score:  0.7463368859565688\n",
      "XGBoost:  -4.811827648705032\n",
      "GBR:  -5.2325441782860755\n",
      "Ada Boost:  -4.7576351180030985\n",
      "SGD Regression: 0.6291665061362139\n"
     ]
    }
   ],
   "source": [
    "print(\"linear regression score: \", lr3.score(X_val, y_val.iloc[:,2]))\n",
    "print(\"SVM score: \", svr3.score(X_val, y_val.iloc[:,2]))\n",
    "print(\"XGBoost: \", xgb_reg3.score(X_val, y_val.iloc[:,2]))\n",
    "print(\"GBR: \", gbr3.score(X_val, y_val.iloc[:,2]))\n",
    "print(\"Ada Boost: \", ada3.score(X_val, y_val.iloc[:,2]))\n",
    "print(\"SGD Regression:\", sgd3.score(X_val, y_val.iloc[:,2]))"
   ]
  },
  {
   "cell_type": "code",
   "execution_count": 36,
   "id": "Dl-hepE2Nn8I",
   "metadata": {
    "colab": {
     "base_uri": "https://localhost:8080/"
    },
    "executionInfo": {
     "elapsed": 34,
     "status": "ok",
     "timestamp": 1676921237214,
     "user": {
      "displayName": "asmaa m.mansour",
      "userId": "08012431486127069488"
     },
     "user_tz": -120
    },
    "id": "Dl-hepE2Nn8I",
    "outputId": "1e13dc84-4bd5-4c1c-8321-030bbe78d2df"
   },
   "outputs": [
    {
     "name": "stdout",
     "output_type": "stream",
     "text": [
      "mean square error of roll (linear regression):  0.4988561217803599\n",
      "mean square error of roll (SVR):  0.04089892871495919\n",
      "mean square error of roll (XGBoost):  0.9370598701524981\n",
      "mean square error of roll (Gradient boosting):  1.0048933642630926\n",
      "mean square error of roll (Ada boost):  0.9283222322092766\n",
      "mean square error of roll (SGD Regressor):  0.05979069005696059\n"
     ]
    }
   ],
   "source": [
    "print(\"mean square error of roll (linear regression): \",mean_squared_error(y_val.iloc[:,2], lr3_pred))\n",
    "print(\"mean square error of roll (SVR): \", mean_squared_error(y_val.iloc[:,2], svr3_pred))\n",
    "print(\"mean square error of roll (XGBoost): \", mean_squared_error(y_val.iloc[:,2], xgb3_pred))\n",
    "print(\"mean square error of roll (Gradient boosting): \", mean_squared_error(y_val.iloc[:,2], gbr3_pred))\n",
    "print(\"mean square error of roll (Ada boost): \", mean_squared_error(y_val.iloc[:,2], ada3_pred))\n",
    "print(\"mean square error of roll (SGD Regressor): \", mean_squared_error(y_val.iloc[:,2], sgd3_pred))"
   ]
  },
  {
   "cell_type": "markdown",
   "id": "4qfa69YxJ63z",
   "metadata": {
    "id": "4qfa69YxJ63z"
   },
   "source": [
    "# using Grid Search"
   ]
  },
  {
   "cell_type": "markdown",
   "id": "e414372d",
   "metadata": {},
   "source": [
    "### Grid Search for pitch"
   ]
  },
  {
   "cell_type": "code",
   "execution_count": 37,
   "id": "Aa-50QtlJ6Di",
   "metadata": {
    "colab": {
     "base_uri": "https://localhost:8080/"
    },
    "executionInfo": {
     "elapsed": 114542,
     "status": "ok",
     "timestamp": 1676922683514,
     "user": {
      "displayName": "asmaa m.mansour",
      "userId": "08012431486127069488"
     },
     "user_tz": -120
    },
    "id": "Aa-50QtlJ6Di",
    "outputId": "7b4c347e-2a12-4562-f280-607aa8af992d"
   },
   "outputs": [
    {
     "data": {
      "text/plain": [
       "0.6514618454710264"
      ]
     },
     "execution_count": 37,
     "metadata": {},
     "output_type": "execute_result"
    }
   ],
   "source": [
    "from sklearn.model_selection import GridSearchCV\n",
    "\n",
    "svm_parameters = {'kernel': ['rbf'],\n",
    "                  'C': [0.01, 0.1, 1 , 10, 100],\n",
    "                  'gamma': ['scale', 0.01, 0.1, 1, 10, 100]\n",
    "                }\n",
    "# use gridsearch to find the best hyperparameters \n",
    "svm1 = SVR()\n",
    "svm_gs1 = GridSearchCV(svm1, svm_parameters).fit(X_train, y_train.iloc[:,0])\n",
    "\n",
    "# git the best model\n",
    "svm_winner1 = svm_gs1.best_estimator_\n",
    "svm_winner1\n",
    "svm_winner1.score(X_val, y_val.iloc[:,0])"
   ]
  },
  {
   "cell_type": "code",
   "execution_count": 38,
   "id": "UrXlQjnYLIfD",
   "metadata": {
    "colab": {
     "base_uri": "https://localhost:8080/"
    },
    "executionInfo": {
     "elapsed": 24,
     "status": "ok",
     "timestamp": 1676922683515,
     "user": {
      "displayName": "asmaa m.mansour",
      "userId": "08012431486127069488"
     },
     "user_tz": -120
    },
    "id": "UrXlQjnYLIfD",
    "outputId": "822fde5f-7af1-4acf-d42d-45d102471a48"
   },
   "outputs": [
    {
     "data": {
      "text/plain": [
       "0.3915604378038203"
      ]
     },
     "execution_count": 38,
     "metadata": {},
     "output_type": "execute_result"
    }
   ],
   "source": [
    "svm_gs1.best_score_"
   ]
  },
  {
   "cell_type": "code",
   "execution_count": 39,
   "id": "ckOYGveTLIRL",
   "metadata": {
    "colab": {
     "base_uri": "https://localhost:8080/"
    },
    "executionInfo": {
     "elapsed": 15,
     "status": "ok",
     "timestamp": 1676922683516,
     "user": {
      "displayName": "asmaa m.mansour",
      "userId": "08012431486127069488"
     },
     "user_tz": -120
    },
    "id": "ckOYGveTLIRL",
    "outputId": "13383a40-a92f-4f15-8ba1-94e703643ac8"
   },
   "outputs": [
    {
     "data": {
      "text/plain": [
       "SVR(C=10)"
      ]
     },
     "execution_count": 39,
     "metadata": {},
     "output_type": "execute_result"
    }
   ],
   "source": [
    "svm_winner1"
   ]
  },
  {
   "cell_type": "markdown",
   "id": "e5362ba8",
   "metadata": {},
   "source": [
    "### Grid Search for yaw"
   ]
  },
  {
   "cell_type": "code",
   "execution_count": 40,
   "id": "2xtWiSYGJ5f-",
   "metadata": {
    "colab": {
     "base_uri": "https://localhost:8080/"
    },
    "executionInfo": {
     "elapsed": 122252,
     "status": "ok",
     "timestamp": 1676922805760,
     "user": {
      "displayName": "asmaa m.mansour",
      "userId": "08012431486127069488"
     },
     "user_tz": -120
    },
    "id": "2xtWiSYGJ5f-",
    "outputId": "8e07efa6-d95a-4ce0-e707-8d2ffb5f6c71"
   },
   "outputs": [
    {
     "data": {
      "text/plain": [
       "0.9136129877750628"
      ]
     },
     "execution_count": 40,
     "metadata": {},
     "output_type": "execute_result"
    }
   ],
   "source": [
    "svm_parameters = {'kernel': ['rbf'],\n",
    "                  'C': [0.01, 0.1, 1 , 10, 100],\n",
    "                  'gamma': ['scale', 0.01, 0.1, 1, 10, 100]\n",
    "                }\n",
    "# use gridsearch to find the best hyperparameters \n",
    "svm2 = SVR()\n",
    "svm_gs2 = GridSearchCV(svm2, svm_parameters).fit(X_train, y_train.iloc[:,1])\n",
    "\n",
    "# git the best model\n",
    "svm_winner2 = svm_gs2.best_estimator_\n",
    "svm_winner2\n",
    "\n",
    "svm_winner2.score(X_val, y_val.iloc[:,1])"
   ]
  },
  {
   "cell_type": "code",
   "execution_count": 41,
   "id": "HvY3QaV9K_0r",
   "metadata": {
    "colab": {
     "base_uri": "https://localhost:8080/"
    },
    "executionInfo": {
     "elapsed": 13,
     "status": "ok",
     "timestamp": 1676922805760,
     "user": {
      "displayName": "asmaa m.mansour",
      "userId": "08012431486127069488"
     },
     "user_tz": -120
    },
    "id": "HvY3QaV9K_0r",
    "outputId": "4f26d6b1-22cf-4932-d802-d8e86a95ac51"
   },
   "outputs": [
    {
     "data": {
      "text/plain": [
       "0.8515986503524479"
      ]
     },
     "execution_count": 41,
     "metadata": {},
     "output_type": "execute_result"
    }
   ],
   "source": [
    "svm_gs2.best_score_"
   ]
  },
  {
   "cell_type": "code",
   "execution_count": 42,
   "id": "Lcl0dX9uLAj1",
   "metadata": {
    "colab": {
     "base_uri": "https://localhost:8080/"
    },
    "executionInfo": {
     "elapsed": 10,
     "status": "ok",
     "timestamp": 1676922805761,
     "user": {
      "displayName": "asmaa m.mansour",
      "userId": "08012431486127069488"
     },
     "user_tz": -120
    },
    "id": "Lcl0dX9uLAj1",
    "outputId": "ac760bc1-60a8-4310-8764-36f5e7ba7539"
   },
   "outputs": [
    {
     "data": {
      "text/plain": [
       "SVR(C=1)"
      ]
     },
     "execution_count": 42,
     "metadata": {},
     "output_type": "execute_result"
    }
   ],
   "source": [
    "svm_winner2"
   ]
  },
  {
   "cell_type": "markdown",
   "id": "0b3e82d9",
   "metadata": {},
   "source": [
    "### Grid Search for roll"
   ]
  },
  {
   "cell_type": "code",
   "execution_count": 43,
   "id": "qFjSL2ZOO4Vx",
   "metadata": {
    "colab": {
     "base_uri": "https://localhost:8080/"
    },
    "executionInfo": {
     "elapsed": 95210,
     "status": "ok",
     "timestamp": 1676922900965,
     "user": {
      "displayName": "asmaa m.mansour",
      "userId": "08012431486127069488"
     },
     "user_tz": -120
    },
    "id": "qFjSL2ZOO4Vx",
    "outputId": "e16bc627-ea0f-4968-d79e-19ec8b3b2b7c"
   },
   "outputs": [
    {
     "data": {
      "text/plain": [
       "0.7540155043956163"
      ]
     },
     "execution_count": 43,
     "metadata": {},
     "output_type": "execute_result"
    }
   ],
   "source": [
    "svm_parameters = {'kernel': ['rbf'],\n",
    "                  'C': [0.01, 0.1, 1 , 10, 100],\n",
    "                  'gamma': ['scale', 0.01, 0.1, 1, 10, 100]\n",
    "                }\n",
    "# use gridsearch to find the best hyperparameters \n",
    "svm3 = SVR()\n",
    "svm_gs3 = GridSearchCV(svm3, svm_parameters).fit(X_train, y_train.iloc[:,2])\n",
    "\n",
    "# git the best model\n",
    "svm_winner3 = svm_gs3.best_estimator_\n",
    "svm_winner3\n",
    "\n",
    "svm_winner3.score(X_val, y_val.iloc[:,2])"
   ]
  },
  {
   "cell_type": "code",
   "execution_count": 44,
   "id": "VVaFVu1ELOT_",
   "metadata": {
    "colab": {
     "base_uri": "https://localhost:8080/"
    },
    "executionInfo": {
     "elapsed": 48,
     "status": "ok",
     "timestamp": 1676922900966,
     "user": {
      "displayName": "asmaa m.mansour",
      "userId": "08012431486127069488"
     },
     "user_tz": -120
    },
    "id": "VVaFVu1ELOT_",
    "outputId": "e6edf478-eac8-4d5d-86b7-14d8257d455c"
   },
   "outputs": [
    {
     "data": {
      "text/plain": [
       "0.5073445060844237"
      ]
     },
     "execution_count": 44,
     "metadata": {},
     "output_type": "execute_result"
    }
   ],
   "source": [
    "svm_gs3.best_score_"
   ]
  },
  {
   "cell_type": "code",
   "execution_count": 45,
   "id": "d4YYDe4cLORH",
   "metadata": {
    "colab": {
     "base_uri": "https://localhost:8080/"
    },
    "executionInfo": {
     "elapsed": 32,
     "status": "ok",
     "timestamp": 1676922900966,
     "user": {
      "displayName": "asmaa m.mansour",
      "userId": "08012431486127069488"
     },
     "user_tz": -120
    },
    "id": "d4YYDe4cLORH",
    "outputId": "c16dd13e-b1c0-44d2-efdf-9caa078ff0e7"
   },
   "outputs": [
    {
     "data": {
      "text/plain": [
       "SVR(C=1, gamma=0.01)"
      ]
     },
     "execution_count": 45,
     "metadata": {},
     "output_type": "execute_result"
    }
   ],
   "source": [
    "svm_winner3"
   ]
  },
  {
   "cell_type": "code",
   "execution_count": 46,
   "id": "ZlVZjzOvWSR1",
   "metadata": {
    "colab": {
     "base_uri": "https://localhost:8080/"
    },
    "executionInfo": {
     "elapsed": 28,
     "status": "ok",
     "timestamp": 1676922900967,
     "user": {
      "displayName": "asmaa m.mansour",
      "userId": "08012431486127069488"
     },
     "user_tz": -120
    },
    "id": "ZlVZjzOvWSR1",
    "outputId": "59a63d8d-2830-49e4-a966-b255d07f0bbf"
   },
   "outputs": [
    {
     "name": "stdout",
     "output_type": "stream",
     "text": [
      "best model score for pitch 0.6616503665381653\n",
      "best model score for yaw 0.9231393279877682\n",
      "best model score for roll 0.5719187975475697\n"
     ]
    }
   ],
   "source": [
    "print(\"best model score for pitch\",svm_winner1.score(X_test, y_test.iloc[:,0]))\n",
    "print(\"best model score for yaw\",svm_winner2.score(X_test, y_test.iloc[:,1]))\n",
    "print(\"best model score for roll\",svm_winner3.score(X_test, y_test.iloc[:,2]))"
   ]
  },
  {
   "cell_type": "code",
   "execution_count": 47,
   "id": "1iBjXZ1qWWAM",
   "metadata": {
    "colab": {
     "base_uri": "https://localhost:8080/"
    },
    "executionInfo": {
     "elapsed": 50,
     "status": "ok",
     "timestamp": 1676922901423,
     "user": {
      "displayName": "asmaa m.mansour",
      "userId": "08012431486127069488"
     },
     "user_tz": -120
    },
    "id": "1iBjXZ1qWWAM",
    "outputId": "5ab979b4-080e-4155-a8ef-728c58398c14"
   },
   "outputs": [
    {
     "data": {
      "text/plain": [
       "0.02544750066978002"
      ]
     },
     "execution_count": 47,
     "metadata": {},
     "output_type": "execute_result"
    }
   ],
   "source": [
    "svr_pred = svm_winner1.predict(X_test)\n",
    "mean_squared_error(y_test.iloc[:,0], svr_pred)"
   ]
  },
  {
   "cell_type": "code",
   "execution_count": 48,
   "id": "lSEQzG-rWkLC",
   "metadata": {
    "colab": {
     "base_uri": "https://localhost:8080/"
    },
    "executionInfo": {
     "elapsed": 45,
     "status": "ok",
     "timestamp": 1676922901425,
     "user": {
      "displayName": "asmaa m.mansour",
      "userId": "08012431486127069488"
     },
     "user_tz": -120
    },
    "id": "lSEQzG-rWkLC",
    "outputId": "7cd663df-456a-433e-a52a-9b16d850a286"
   },
   "outputs": [
    {
     "data": {
      "text/plain": [
       "0.020466241525005393"
      ]
     },
     "execution_count": 48,
     "metadata": {},
     "output_type": "execute_result"
    }
   ],
   "source": [
    "svr_pred = svm_winner2.predict(X_test)\n",
    "mean_squared_error(y_test.iloc[:,1], svr_pred)"
   ]
  },
  {
   "cell_type": "code",
   "execution_count": 49,
   "id": "B5raNGoqTzcz",
   "metadata": {
    "colab": {
     "base_uri": "https://localhost:8080/"
    },
    "executionInfo": {
     "elapsed": 38,
     "status": "ok",
     "timestamp": 1676922901426,
     "user": {
      "displayName": "asmaa m.mansour",
      "userId": "08012431486127069488"
     },
     "user_tz": -120
    },
    "id": "B5raNGoqTzcz",
    "outputId": "c72d53de-5987-48f6-d21d-2dbe2bca21c8"
   },
   "outputs": [
    {
     "data": {
      "text/plain": [
       "0.05294577975714337"
      ]
     },
     "execution_count": 49,
     "metadata": {},
     "output_type": "execute_result"
    }
   ],
   "source": [
    "svr_pred = svm_winner3.predict(X_test)\n",
    "mean_squared_error(y_test.iloc[:,2], svr_pred)"
   ]
  },
  {
   "cell_type": "markdown",
   "id": "UHCdnuJnM9gu",
   "metadata": {
    "id": "UHCdnuJnM9gu"
   },
   "source": [
    "## Saving models"
   ]
  },
  {
   "cell_type": "code",
   "execution_count": 50,
   "id": "K8LI0EFM8QDm",
   "metadata": {
    "colab": {
     "base_uri": "https://localhost:8080/"
    },
    "executionInfo": {
     "elapsed": 13,
     "status": "ok",
     "timestamp": 1676921559934,
     "user": {
      "displayName": "asmaa m.mansour",
      "userId": "08012431486127069488"
     },
     "user_tz": -120
    },
    "id": "K8LI0EFM8QDm",
    "outputId": "845fe7e3-87fa-4b0a-89ab-c22ab91d4fbb"
   },
   "outputs": [
    {
     "data": {
      "text/plain": [
       "['my_model_roll.pkl']"
      ]
     },
     "execution_count": 50,
     "metadata": {},
     "output_type": "execute_result"
    }
   ],
   "source": [
    "import joblib\n",
    "\n",
    "my_model_pitch = \"my_model_pitch.pkl\"\n",
    "joblib.dump(svm_winner1, my_model_pitch)\n",
    "\n",
    "my_model_yaw = \"my_model_yaw.pkl\"\n",
    "joblib.dump(svm_winner2, my_model_yaw)\n",
    "\n",
    "my_model_roll = \"my_model_roll.pkl\"\n",
    "joblib.dump(svm_winner3, my_model_roll)\n"
   ]
  },
  {
   "cell_type": "code",
   "execution_count": 51,
   "id": "wBfuYWja9quk",
   "metadata": {
    "id": "wBfuYWja9quk"
   },
   "outputs": [],
   "source": [
    "import joblib\n",
    "svm_model1 = joblib.load(\"my_model_pitch.pkl\")\n",
    "\n",
    "svm_model2 = joblib.load(\"my_model_yaw.pkl\")\n",
    "\n",
    "svm_model3 = joblib.load(\"my_model_roll.pkl\")"
   ]
  },
  {
   "cell_type": "code",
   "execution_count": 52,
   "id": "FJ6Fwo4co5BG",
   "metadata": {
    "id": "FJ6Fwo4co5BG"
   },
   "outputs": [],
   "source": [
    "mp_drawing = mp.solutions.drawing_utils\n",
    "mp_face_mesh = mp.solutions.face_mesh\n",
    "\n",
    "# For static images:\n",
    "drawing_spec = mp_drawing.DrawingSpec(thickness=1, circle_radius=1)\n",
    "with mp_face_mesh.FaceMesh(\n",
    "    static_image_mode=True,\n",
    "    min_detection_confidence=0.5) as face_mesh:\n",
    "\n",
    "    All_Images = []\n",
    "    image = cv2.imread(\"../last version/asmaaa.jpg\")\n",
    "    # Convert the BGR image to RGB before processing.\n",
    "    results = face_mesh.process(cv2.cvtColor(image, cv2.COLOR_BGR2RGB))\n",
    "    if results.multi_face_landmarks != None:\n",
    "\n",
    "        OneImage = []\n",
    "        annotated_image = image.copy()\n",
    "\n",
    "    for face in results.multi_face_landmarks:\n",
    "\n",
    "        #nose axes\n",
    "        nose_x = int(face.landmark[1].x * image.shape[1])\n",
    "        nose_y = int(face.landmark[1].y * image.shape[0])\n",
    "\n",
    "        # chin axes\n",
    "        chin_x = int(face.landmark[152].x * image.shape[1])\n",
    "        chin_y = int(face.landmark[152].y * image.shape[0])\n",
    "\n",
    "        # Max Dist\n",
    "        dist_x = nose_x - chin_x\n",
    "        dist_y = nose_y - chin_y\n",
    "\n",
    "        dist = np.sqrt(dist_x**2 + dist_y**2)\n",
    "\n",
    "        for landmark in face.landmark:\n",
    "            x = landmark.x\n",
    "            y = landmark.y\n",
    "\n",
    "            shape = image.shape \n",
    "\n",
    "            relative_x = int(x * shape[1])\n",
    "            relative_y = int(y * shape[0])\n",
    "\n",
    "            OneImage.append((relative_x- nose_x) / dist)\n",
    "            OneImage.append((relative_y- nose_y) / dist)\n",
    "\n",
    "            cv2.circle(image, (relative_x, relative_y), radius=1, color=(225, 0, 100), thickness=1)\n",
    "    All_Images.append(OneImage)\n",
    "      \n",
    "#cv2_imshow(OneImage)"
   ]
  },
  {
   "cell_type": "markdown",
   "id": "n205bIgfNSAo",
   "metadata": {
    "id": "n205bIgfNSAo"
   },
   "source": [
    "# predict axes on an image "
   ]
  },
  {
   "cell_type": "code",
   "execution_count": 53,
   "id": "sm3NvCpQWouT",
   "metadata": {
    "colab": {
     "base_uri": "https://localhost:8080/",
     "height": 470
    },
    "executionInfo": {
     "elapsed": 12,
     "status": "ok",
     "timestamp": 1676921561006,
     "user": {
      "displayName": "asmaa m.mansour",
      "userId": "08012431486127069488"
     },
     "user_tz": -120
    },
    "id": "sm3NvCpQWouT",
    "outputId": "94de3ad9-8c47-4068-d264-84f84959ed32"
   },
   "outputs": [
    {
     "name": "stderr",
     "output_type": "stream",
     "text": [
      "C:\\Users\\asmaa mohammed\\AppData\\Roaming\\Python\\Python310\\site-packages\\sklearn\\base.py:450: UserWarning: X does not have valid feature names, but SVR was fitted with feature names\n",
      "  warnings.warn(\n",
      "C:\\Users\\asmaa mohammed\\AppData\\Roaming\\Python\\Python310\\site-packages\\sklearn\\base.py:450: UserWarning: X does not have valid feature names, but SVR was fitted with feature names\n",
      "  warnings.warn(\n",
      "C:\\Users\\asmaa mohammed\\AppData\\Roaming\\Python\\Python310\\site-packages\\sklearn\\base.py:450: UserWarning: X does not have valid feature names, but SVR was fitted with feature names\n",
      "  warnings.warn(\n"
     ]
    }
   ],
   "source": [
    "image = cv2.imread(\"../last version/asmaaa.jpg\")\n",
    "\n",
    "svr1_pred = svm_model1.predict(All_Images)\n",
    "svr2_pred = svm_model2.predict(All_Images)\n",
    "svr3_pred = svm_model3.predict(All_Images)\n",
    "\n",
    "cv2.imshow('HelloWorld', draw_axis(image, svr1_pred, svr2_pred, svr3_pred, tdx=nose_x, tdy=nose_y))\n",
    "cv2.waitKey(10000) \n",
    "cv2.destroyWindow('HelloWorld')\n",
    "# cv2_imshow(draw_axis(image, svr1_pred, svr2_pred, svr3_pred, tdx=nose_x, tdy=nose_y))"
   ]
  },
  {
   "cell_type": "markdown",
   "id": "zJpsJvLKN1Nl",
   "metadata": {
    "id": "zJpsJvLKN1Nl"
   },
   "source": [
    "# predict axes on a video"
   ]
  },
  {
   "cell_type": "markdown",
   "id": "EVDTQTbe-clL",
   "metadata": {
    "id": "EVDTQTbe-clL"
   },
   "source": [
    "### download video from local file system"
   ]
  },
  {
   "cell_type": "code",
   "execution_count": 58,
   "id": "4Bgb60QHSy9a",
   "metadata": {
    "id": "4Bgb60QHSy9a"
   },
   "outputs": [
    {
     "name": "stdout",
     "output_type": "stream",
     "text": [
      "468\n",
      "468\n",
      "468\n",
      "468\n",
      "468\n",
      "468\n",
      "468\n"
     ]
    },
    {
     "name": "stderr",
     "output_type": "stream",
     "text": [
      "C:\\Users\\asmaa mohammed\\AppData\\Roaming\\Python\\Python310\\site-packages\\sklearn\\base.py:450: UserWarning: X does not have valid feature names, but SVR was fitted with feature names\n",
      "  warnings.warn(\n",
      "C:\\Users\\asmaa mohammed\\AppData\\Roaming\\Python\\Python310\\site-packages\\sklearn\\base.py:450: UserWarning: X does not have valid feature names, but SVR was fitted with feature names\n",
      "  warnings.warn(\n",
      "C:\\Users\\asmaa mohammed\\AppData\\Roaming\\Python\\Python310\\site-packages\\sklearn\\base.py:450: UserWarning: X does not have valid feature names, but SVR was fitted with feature names\n",
      "  warnings.warn(\n",
      "C:\\Users\\asmaa mohammed\\AppData\\Roaming\\Python\\Python310\\site-packages\\sklearn\\base.py:450: UserWarning: X does not have valid feature names, but SVR was fitted with feature names\n",
      "  warnings.warn(\n",
      "C:\\Users\\asmaa mohammed\\AppData\\Roaming\\Python\\Python310\\site-packages\\sklearn\\base.py:450: UserWarning: X does not have valid feature names, but SVR was fitted with feature names\n",
      "  warnings.warn(\n",
      "C:\\Users\\asmaa mohammed\\AppData\\Roaming\\Python\\Python310\\site-packages\\sklearn\\base.py:450: UserWarning: X does not have valid feature names, but SVR was fitted with feature names\n",
      "  warnings.warn(\n",
      "C:\\Users\\asmaa mohammed\\AppData\\Roaming\\Python\\Python310\\site-packages\\sklearn\\base.py:450: UserWarning: X does not have valid feature names, but SVR was fitted with feature names\n",
      "  warnings.warn(\n",
      "C:\\Users\\asmaa mohammed\\AppData\\Roaming\\Python\\Python310\\site-packages\\sklearn\\base.py:450: UserWarning: X does not have valid feature names, but SVR was fitted with feature names\n",
      "  warnings.warn(\n",
      "C:\\Users\\asmaa mohammed\\AppData\\Roaming\\Python\\Python310\\site-packages\\sklearn\\base.py:450: UserWarning: X does not have valid feature names, but SVR was fitted with feature names\n",
      "  warnings.warn(\n",
      "C:\\Users\\asmaa mohammed\\AppData\\Roaming\\Python\\Python310\\site-packages\\sklearn\\base.py:450: UserWarning: X does not have valid feature names, but SVR was fitted with feature names\n",
      "  warnings.warn(\n",
      "C:\\Users\\asmaa mohammed\\AppData\\Roaming\\Python\\Python310\\site-packages\\sklearn\\base.py:450: UserWarning: X does not have valid feature names, but SVR was fitted with feature names\n",
      "  warnings.warn(\n",
      "C:\\Users\\asmaa mohammed\\AppData\\Roaming\\Python\\Python310\\site-packages\\sklearn\\base.py:450: UserWarning: X does not have valid feature names, but SVR was fitted with feature names\n",
      "  warnings.warn(\n",
      "C:\\Users\\asmaa mohammed\\AppData\\Roaming\\Python\\Python310\\site-packages\\sklearn\\base.py:450: UserWarning: X does not have valid feature names, but SVR was fitted with feature names\n",
      "  warnings.warn(\n",
      "C:\\Users\\asmaa mohammed\\AppData\\Roaming\\Python\\Python310\\site-packages\\sklearn\\base.py:450: UserWarning: X does not have valid feature names, but SVR was fitted with feature names\n",
      "  warnings.warn(\n",
      "C:\\Users\\asmaa mohammed\\AppData\\Roaming\\Python\\Python310\\site-packages\\sklearn\\base.py:450: UserWarning: X does not have valid feature names, but SVR was fitted with feature names\n",
      "  warnings.warn(\n",
      "C:\\Users\\asmaa mohammed\\AppData\\Roaming\\Python\\Python310\\site-packages\\sklearn\\base.py:450: UserWarning: X does not have valid feature names, but SVR was fitted with feature names\n",
      "  warnings.warn(\n",
      "C:\\Users\\asmaa mohammed\\AppData\\Roaming\\Python\\Python310\\site-packages\\sklearn\\base.py:450: UserWarning: X does not have valid feature names, but SVR was fitted with feature names\n",
      "  warnings.warn(\n",
      "C:\\Users\\asmaa mohammed\\AppData\\Roaming\\Python\\Python310\\site-packages\\sklearn\\base.py:450: UserWarning: X does not have valid feature names, but SVR was fitted with feature names\n",
      "  warnings.warn(\n",
      "C:\\Users\\asmaa mohammed\\AppData\\Roaming\\Python\\Python310\\site-packages\\sklearn\\base.py:450: UserWarning: X does not have valid feature names, but SVR was fitted with feature names\n",
      "  warnings.warn(\n",
      "C:\\Users\\asmaa mohammed\\AppData\\Roaming\\Python\\Python310\\site-packages\\sklearn\\base.py:450: UserWarning: X does not have valid feature names, but SVR was fitted with feature names\n",
      "  warnings.warn(\n",
      "C:\\Users\\asmaa mohammed\\AppData\\Roaming\\Python\\Python310\\site-packages\\sklearn\\base.py:450: UserWarning: X does not have valid feature names, but SVR was fitted with feature names\n",
      "  warnings.warn(\n",
      "C:\\Users\\asmaa mohammed\\AppData\\Roaming\\Python\\Python310\\site-packages\\sklearn\\base.py:450: UserWarning: X does not have valid feature names, but SVR was fitted with feature names\n",
      "  warnings.warn(\n",
      "C:\\Users\\asmaa mohammed\\AppData\\Roaming\\Python\\Python310\\site-packages\\sklearn\\base.py:450: UserWarning: X does not have valid feature names, but SVR was fitted with feature names\n",
      "  warnings.warn(\n",
      "C:\\Users\\asmaa mohammed\\AppData\\Roaming\\Python\\Python310\\site-packages\\sklearn\\base.py:450: UserWarning: X does not have valid feature names, but SVR was fitted with feature names\n",
      "  warnings.warn(\n",
      "C:\\Users\\asmaa mohammed\\AppData\\Roaming\\Python\\Python310\\site-packages\\sklearn\\base.py:450: UserWarning: X does not have valid feature names, but SVR was fitted with feature names\n",
      "  warnings.warn(\n",
      "C:\\Users\\asmaa mohammed\\AppData\\Roaming\\Python\\Python310\\site-packages\\sklearn\\base.py:450: UserWarning: X does not have valid feature names, but SVR was fitted with feature names\n",
      "  warnings.warn(\n",
      "C:\\Users\\asmaa mohammed\\AppData\\Roaming\\Python\\Python310\\site-packages\\sklearn\\base.py:450: UserWarning: X does not have valid feature names, but SVR was fitted with feature names\n",
      "  warnings.warn(\n",
      "C:\\Users\\asmaa mohammed\\AppData\\Roaming\\Python\\Python310\\site-packages\\sklearn\\base.py:450: UserWarning: X does not have valid feature names, but SVR was fitted with feature names\n",
      "  warnings.warn(\n",
      "C:\\Users\\asmaa mohammed\\AppData\\Roaming\\Python\\Python310\\site-packages\\sklearn\\base.py:450: UserWarning: X does not have valid feature names, but SVR was fitted with feature names\n",
      "  warnings.warn(\n",
      "C:\\Users\\asmaa mohammed\\AppData\\Roaming\\Python\\Python310\\site-packages\\sklearn\\base.py:450: UserWarning: X does not have valid feature names, but SVR was fitted with feature names\n",
      "  warnings.warn(\n",
      "C:\\Users\\asmaa mohammed\\AppData\\Roaming\\Python\\Python310\\site-packages\\sklearn\\base.py:450: UserWarning: X does not have valid feature names, but SVR was fitted with feature names\n",
      "  warnings.warn(\n",
      "C:\\Users\\asmaa mohammed\\AppData\\Roaming\\Python\\Python310\\site-packages\\sklearn\\base.py:450: UserWarning: X does not have valid feature names, but SVR was fitted with feature names\n",
      "  warnings.warn(\n",
      "C:\\Users\\asmaa mohammed\\AppData\\Roaming\\Python\\Python310\\site-packages\\sklearn\\base.py:450: UserWarning: X does not have valid feature names, but SVR was fitted with feature names\n",
      "  warnings.warn(\n",
      "C:\\Users\\asmaa mohammed\\AppData\\Roaming\\Python\\Python310\\site-packages\\sklearn\\base.py:450: UserWarning: X does not have valid feature names, but SVR was fitted with feature names\n",
      "  warnings.warn(\n",
      "C:\\Users\\asmaa mohammed\\AppData\\Roaming\\Python\\Python310\\site-packages\\sklearn\\base.py:450: UserWarning: X does not have valid feature names, but SVR was fitted with feature names\n",
      "  warnings.warn(\n",
      "C:\\Users\\asmaa mohammed\\AppData\\Roaming\\Python\\Python310\\site-packages\\sklearn\\base.py:450: UserWarning: X does not have valid feature names, but SVR was fitted with feature names\n",
      "  warnings.warn(\n",
      "C:\\Users\\asmaa mohammed\\AppData\\Roaming\\Python\\Python310\\site-packages\\sklearn\\base.py:450: UserWarning: X does not have valid feature names, but SVR was fitted with feature names\n",
      "  warnings.warn(\n",
      "C:\\Users\\asmaa mohammed\\AppData\\Roaming\\Python\\Python310\\site-packages\\sklearn\\base.py:450: UserWarning: X does not have valid feature names, but SVR was fitted with feature names\n",
      "  warnings.warn(\n",
      "C:\\Users\\asmaa mohammed\\AppData\\Roaming\\Python\\Python310\\site-packages\\sklearn\\base.py:450: UserWarning: X does not have valid feature names, but SVR was fitted with feature names\n",
      "  warnings.warn(\n",
      "C:\\Users\\asmaa mohammed\\AppData\\Roaming\\Python\\Python310\\site-packages\\sklearn\\base.py:450: UserWarning: X does not have valid feature names, but SVR was fitted with feature names\n",
      "  warnings.warn(\n",
      "C:\\Users\\asmaa mohammed\\AppData\\Roaming\\Python\\Python310\\site-packages\\sklearn\\base.py:450: UserWarning: X does not have valid feature names, but SVR was fitted with feature names\n",
      "  warnings.warn(\n",
      "C:\\Users\\asmaa mohammed\\AppData\\Roaming\\Python\\Python310\\site-packages\\sklearn\\base.py:450: UserWarning: X does not have valid feature names, but SVR was fitted with feature names\n",
      "  warnings.warn(\n"
     ]
    },
    {
     "name": "stdout",
     "output_type": "stream",
     "text": [
      "468\n",
      "468\n",
      "468\n",
      "468\n",
      "468\n",
      "468\n",
      "468\n",
      "468\n"
     ]
    },
    {
     "name": "stderr",
     "output_type": "stream",
     "text": [
      "C:\\Users\\asmaa mohammed\\AppData\\Roaming\\Python\\Python310\\site-packages\\sklearn\\base.py:450: UserWarning: X does not have valid feature names, but SVR was fitted with feature names\n",
      "  warnings.warn(\n",
      "C:\\Users\\asmaa mohammed\\AppData\\Roaming\\Python\\Python310\\site-packages\\sklearn\\base.py:450: UserWarning: X does not have valid feature names, but SVR was fitted with feature names\n",
      "  warnings.warn(\n",
      "C:\\Users\\asmaa mohammed\\AppData\\Roaming\\Python\\Python310\\site-packages\\sklearn\\base.py:450: UserWarning: X does not have valid feature names, but SVR was fitted with feature names\n",
      "  warnings.warn(\n",
      "C:\\Users\\asmaa mohammed\\AppData\\Roaming\\Python\\Python310\\site-packages\\sklearn\\base.py:450: UserWarning: X does not have valid feature names, but SVR was fitted with feature names\n",
      "  warnings.warn(\n",
      "C:\\Users\\asmaa mohammed\\AppData\\Roaming\\Python\\Python310\\site-packages\\sklearn\\base.py:450: UserWarning: X does not have valid feature names, but SVR was fitted with feature names\n",
      "  warnings.warn(\n",
      "C:\\Users\\asmaa mohammed\\AppData\\Roaming\\Python\\Python310\\site-packages\\sklearn\\base.py:450: UserWarning: X does not have valid feature names, but SVR was fitted with feature names\n",
      "  warnings.warn(\n",
      "C:\\Users\\asmaa mohammed\\AppData\\Roaming\\Python\\Python310\\site-packages\\sklearn\\base.py:450: UserWarning: X does not have valid feature names, but SVR was fitted with feature names\n",
      "  warnings.warn(\n",
      "C:\\Users\\asmaa mohammed\\AppData\\Roaming\\Python\\Python310\\site-packages\\sklearn\\base.py:450: UserWarning: X does not have valid feature names, but SVR was fitted with feature names\n",
      "  warnings.warn(\n",
      "C:\\Users\\asmaa mohammed\\AppData\\Roaming\\Python\\Python310\\site-packages\\sklearn\\base.py:450: UserWarning: X does not have valid feature names, but SVR was fitted with feature names\n",
      "  warnings.warn(\n",
      "C:\\Users\\asmaa mohammed\\AppData\\Roaming\\Python\\Python310\\site-packages\\sklearn\\base.py:450: UserWarning: X does not have valid feature names, but SVR was fitted with feature names\n",
      "  warnings.warn(\n",
      "C:\\Users\\asmaa mohammed\\AppData\\Roaming\\Python\\Python310\\site-packages\\sklearn\\base.py:450: UserWarning: X does not have valid feature names, but SVR was fitted with feature names\n",
      "  warnings.warn(\n",
      "C:\\Users\\asmaa mohammed\\AppData\\Roaming\\Python\\Python310\\site-packages\\sklearn\\base.py:450: UserWarning: X does not have valid feature names, but SVR was fitted with feature names\n",
      "  warnings.warn(\n",
      "C:\\Users\\asmaa mohammed\\AppData\\Roaming\\Python\\Python310\\site-packages\\sklearn\\base.py:450: UserWarning: X does not have valid feature names, but SVR was fitted with feature names\n",
      "  warnings.warn(\n",
      "C:\\Users\\asmaa mohammed\\AppData\\Roaming\\Python\\Python310\\site-packages\\sklearn\\base.py:450: UserWarning: X does not have valid feature names, but SVR was fitted with feature names\n",
      "  warnings.warn(\n",
      "C:\\Users\\asmaa mohammed\\AppData\\Roaming\\Python\\Python310\\site-packages\\sklearn\\base.py:450: UserWarning: X does not have valid feature names, but SVR was fitted with feature names\n",
      "  warnings.warn(\n",
      "C:\\Users\\asmaa mohammed\\AppData\\Roaming\\Python\\Python310\\site-packages\\sklearn\\base.py:450: UserWarning: X does not have valid feature names, but SVR was fitted with feature names\n",
      "  warnings.warn(\n",
      "C:\\Users\\asmaa mohammed\\AppData\\Roaming\\Python\\Python310\\site-packages\\sklearn\\base.py:450: UserWarning: X does not have valid feature names, but SVR was fitted with feature names\n",
      "  warnings.warn(\n",
      "C:\\Users\\asmaa mohammed\\AppData\\Roaming\\Python\\Python310\\site-packages\\sklearn\\base.py:450: UserWarning: X does not have valid feature names, but SVR was fitted with feature names\n",
      "  warnings.warn(\n",
      "C:\\Users\\asmaa mohammed\\AppData\\Roaming\\Python\\Python310\\site-packages\\sklearn\\base.py:450: UserWarning: X does not have valid feature names, but SVR was fitted with feature names\n",
      "  warnings.warn(\n",
      "C:\\Users\\asmaa mohammed\\AppData\\Roaming\\Python\\Python310\\site-packages\\sklearn\\base.py:450: UserWarning: X does not have valid feature names, but SVR was fitted with feature names\n",
      "  warnings.warn(\n",
      "C:\\Users\\asmaa mohammed\\AppData\\Roaming\\Python\\Python310\\site-packages\\sklearn\\base.py:450: UserWarning: X does not have valid feature names, but SVR was fitted with feature names\n",
      "  warnings.warn(\n",
      "C:\\Users\\asmaa mohammed\\AppData\\Roaming\\Python\\Python310\\site-packages\\sklearn\\base.py:450: UserWarning: X does not have valid feature names, but SVR was fitted with feature names\n",
      "  warnings.warn(\n",
      "C:\\Users\\asmaa mohammed\\AppData\\Roaming\\Python\\Python310\\site-packages\\sklearn\\base.py:450: UserWarning: X does not have valid feature names, but SVR was fitted with feature names\n",
      "  warnings.warn(\n",
      "C:\\Users\\asmaa mohammed\\AppData\\Roaming\\Python\\Python310\\site-packages\\sklearn\\base.py:450: UserWarning: X does not have valid feature names, but SVR was fitted with feature names\n",
      "  warnings.warn(\n",
      "C:\\Users\\asmaa mohammed\\AppData\\Roaming\\Python\\Python310\\site-packages\\sklearn\\base.py:450: UserWarning: X does not have valid feature names, but SVR was fitted with feature names\n",
      "  warnings.warn(\n",
      "C:\\Users\\asmaa mohammed\\AppData\\Roaming\\Python\\Python310\\site-packages\\sklearn\\base.py:450: UserWarning: X does not have valid feature names, but SVR was fitted with feature names\n",
      "  warnings.warn(\n",
      "C:\\Users\\asmaa mohammed\\AppData\\Roaming\\Python\\Python310\\site-packages\\sklearn\\base.py:450: UserWarning: X does not have valid feature names, but SVR was fitted with feature names\n",
      "  warnings.warn(\n",
      "C:\\Users\\asmaa mohammed\\AppData\\Roaming\\Python\\Python310\\site-packages\\sklearn\\base.py:450: UserWarning: X does not have valid feature names, but SVR was fitted with feature names\n",
      "  warnings.warn(\n"
     ]
    },
    {
     "name": "stdout",
     "output_type": "stream",
     "text": [
      "468\n",
      "468\n",
      "468\n",
      "468\n",
      "468\n",
      "468\n",
      "468\n",
      "468\n",
      "468\n",
      "468\n"
     ]
    },
    {
     "name": "stderr",
     "output_type": "stream",
     "text": [
      "C:\\Users\\asmaa mohammed\\AppData\\Roaming\\Python\\Python310\\site-packages\\sklearn\\base.py:450: UserWarning: X does not have valid feature names, but SVR was fitted with feature names\n",
      "  warnings.warn(\n",
      "C:\\Users\\asmaa mohammed\\AppData\\Roaming\\Python\\Python310\\site-packages\\sklearn\\base.py:450: UserWarning: X does not have valid feature names, but SVR was fitted with feature names\n",
      "  warnings.warn(\n",
      "C:\\Users\\asmaa mohammed\\AppData\\Roaming\\Python\\Python310\\site-packages\\sklearn\\base.py:450: UserWarning: X does not have valid feature names, but SVR was fitted with feature names\n",
      "  warnings.warn(\n",
      "C:\\Users\\asmaa mohammed\\AppData\\Roaming\\Python\\Python310\\site-packages\\sklearn\\base.py:450: UserWarning: X does not have valid feature names, but SVR was fitted with feature names\n",
      "  warnings.warn(\n",
      "C:\\Users\\asmaa mohammed\\AppData\\Roaming\\Python\\Python310\\site-packages\\sklearn\\base.py:450: UserWarning: X does not have valid feature names, but SVR was fitted with feature names\n",
      "  warnings.warn(\n",
      "C:\\Users\\asmaa mohammed\\AppData\\Roaming\\Python\\Python310\\site-packages\\sklearn\\base.py:450: UserWarning: X does not have valid feature names, but SVR was fitted with feature names\n",
      "  warnings.warn(\n",
      "C:\\Users\\asmaa mohammed\\AppData\\Roaming\\Python\\Python310\\site-packages\\sklearn\\base.py:450: UserWarning: X does not have valid feature names, but SVR was fitted with feature names\n",
      "  warnings.warn(\n",
      "C:\\Users\\asmaa mohammed\\AppData\\Roaming\\Python\\Python310\\site-packages\\sklearn\\base.py:450: UserWarning: X does not have valid feature names, but SVR was fitted with feature names\n",
      "  warnings.warn(\n",
      "C:\\Users\\asmaa mohammed\\AppData\\Roaming\\Python\\Python310\\site-packages\\sklearn\\base.py:450: UserWarning: X does not have valid feature names, but SVR was fitted with feature names\n",
      "  warnings.warn(\n",
      "C:\\Users\\asmaa mohammed\\AppData\\Roaming\\Python\\Python310\\site-packages\\sklearn\\base.py:450: UserWarning: X does not have valid feature names, but SVR was fitted with feature names\n",
      "  warnings.warn(\n",
      "C:\\Users\\asmaa mohammed\\AppData\\Roaming\\Python\\Python310\\site-packages\\sklearn\\base.py:450: UserWarning: X does not have valid feature names, but SVR was fitted with feature names\n",
      "  warnings.warn(\n",
      "C:\\Users\\asmaa mohammed\\AppData\\Roaming\\Python\\Python310\\site-packages\\sklearn\\base.py:450: UserWarning: X does not have valid feature names, but SVR was fitted with feature names\n",
      "  warnings.warn(\n",
      "C:\\Users\\asmaa mohammed\\AppData\\Roaming\\Python\\Python310\\site-packages\\sklearn\\base.py:450: UserWarning: X does not have valid feature names, but SVR was fitted with feature names\n",
      "  warnings.warn(\n",
      "C:\\Users\\asmaa mohammed\\AppData\\Roaming\\Python\\Python310\\site-packages\\sklearn\\base.py:450: UserWarning: X does not have valid feature names, but SVR was fitted with feature names\n",
      "  warnings.warn(\n",
      "C:\\Users\\asmaa mohammed\\AppData\\Roaming\\Python\\Python310\\site-packages\\sklearn\\base.py:450: UserWarning: X does not have valid feature names, but SVR was fitted with feature names\n",
      "  warnings.warn(\n",
      "C:\\Users\\asmaa mohammed\\AppData\\Roaming\\Python\\Python310\\site-packages\\sklearn\\base.py:450: UserWarning: X does not have valid feature names, but SVR was fitted with feature names\n",
      "  warnings.warn(\n",
      "C:\\Users\\asmaa mohammed\\AppData\\Roaming\\Python\\Python310\\site-packages\\sklearn\\base.py:450: UserWarning: X does not have valid feature names, but SVR was fitted with feature names\n",
      "  warnings.warn(\n",
      "C:\\Users\\asmaa mohammed\\AppData\\Roaming\\Python\\Python310\\site-packages\\sklearn\\base.py:450: UserWarning: X does not have valid feature names, but SVR was fitted with feature names\n",
      "  warnings.warn(\n",
      "C:\\Users\\asmaa mohammed\\AppData\\Roaming\\Python\\Python310\\site-packages\\sklearn\\base.py:450: UserWarning: X does not have valid feature names, but SVR was fitted with feature names\n",
      "  warnings.warn(\n",
      "C:\\Users\\asmaa mohammed\\AppData\\Roaming\\Python\\Python310\\site-packages\\sklearn\\base.py:450: UserWarning: X does not have valid feature names, but SVR was fitted with feature names\n",
      "  warnings.warn(\n",
      "C:\\Users\\asmaa mohammed\\AppData\\Roaming\\Python\\Python310\\site-packages\\sklearn\\base.py:450: UserWarning: X does not have valid feature names, but SVR was fitted with feature names\n",
      "  warnings.warn(\n",
      "C:\\Users\\asmaa mohammed\\AppData\\Roaming\\Python\\Python310\\site-packages\\sklearn\\base.py:450: UserWarning: X does not have valid feature names, but SVR was fitted with feature names\n",
      "  warnings.warn(\n",
      "C:\\Users\\asmaa mohammed\\AppData\\Roaming\\Python\\Python310\\site-packages\\sklearn\\base.py:450: UserWarning: X does not have valid feature names, but SVR was fitted with feature names\n",
      "  warnings.warn(\n"
     ]
    },
    {
     "name": "stdout",
     "output_type": "stream",
     "text": [
      "468\n",
      "468\n",
      "468\n",
      "468\n",
      "468\n",
      "468\n",
      "468\n",
      "468\n"
     ]
    },
    {
     "name": "stderr",
     "output_type": "stream",
     "text": [
      "C:\\Users\\asmaa mohammed\\AppData\\Roaming\\Python\\Python310\\site-packages\\sklearn\\base.py:450: UserWarning: X does not have valid feature names, but SVR was fitted with feature names\n",
      "  warnings.warn(\n",
      "C:\\Users\\asmaa mohammed\\AppData\\Roaming\\Python\\Python310\\site-packages\\sklearn\\base.py:450: UserWarning: X does not have valid feature names, but SVR was fitted with feature names\n",
      "  warnings.warn(\n",
      "C:\\Users\\asmaa mohammed\\AppData\\Roaming\\Python\\Python310\\site-packages\\sklearn\\base.py:450: UserWarning: X does not have valid feature names, but SVR was fitted with feature names\n",
      "  warnings.warn(\n",
      "C:\\Users\\asmaa mohammed\\AppData\\Roaming\\Python\\Python310\\site-packages\\sklearn\\base.py:450: UserWarning: X does not have valid feature names, but SVR was fitted with feature names\n",
      "  warnings.warn(\n",
      "C:\\Users\\asmaa mohammed\\AppData\\Roaming\\Python\\Python310\\site-packages\\sklearn\\base.py:450: UserWarning: X does not have valid feature names, but SVR was fitted with feature names\n",
      "  warnings.warn(\n",
      "C:\\Users\\asmaa mohammed\\AppData\\Roaming\\Python\\Python310\\site-packages\\sklearn\\base.py:450: UserWarning: X does not have valid feature names, but SVR was fitted with feature names\n",
      "  warnings.warn(\n",
      "C:\\Users\\asmaa mohammed\\AppData\\Roaming\\Python\\Python310\\site-packages\\sklearn\\base.py:450: UserWarning: X does not have valid feature names, but SVR was fitted with feature names\n",
      "  warnings.warn(\n",
      "C:\\Users\\asmaa mohammed\\AppData\\Roaming\\Python\\Python310\\site-packages\\sklearn\\base.py:450: UserWarning: X does not have valid feature names, but SVR was fitted with feature names\n",
      "  warnings.warn(\n",
      "C:\\Users\\asmaa mohammed\\AppData\\Roaming\\Python\\Python310\\site-packages\\sklearn\\base.py:450: UserWarning: X does not have valid feature names, but SVR was fitted with feature names\n",
      "  warnings.warn(\n",
      "C:\\Users\\asmaa mohammed\\AppData\\Roaming\\Python\\Python310\\site-packages\\sklearn\\base.py:450: UserWarning: X does not have valid feature names, but SVR was fitted with feature names\n",
      "  warnings.warn(\n",
      "C:\\Users\\asmaa mohammed\\AppData\\Roaming\\Python\\Python310\\site-packages\\sklearn\\base.py:450: UserWarning: X does not have valid feature names, but SVR was fitted with feature names\n",
      "  warnings.warn(\n",
      "C:\\Users\\asmaa mohammed\\AppData\\Roaming\\Python\\Python310\\site-packages\\sklearn\\base.py:450: UserWarning: X does not have valid feature names, but SVR was fitted with feature names\n",
      "  warnings.warn(\n",
      "C:\\Users\\asmaa mohammed\\AppData\\Roaming\\Python\\Python310\\site-packages\\sklearn\\base.py:450: UserWarning: X does not have valid feature names, but SVR was fitted with feature names\n",
      "  warnings.warn(\n",
      "C:\\Users\\asmaa mohammed\\AppData\\Roaming\\Python\\Python310\\site-packages\\sklearn\\base.py:450: UserWarning: X does not have valid feature names, but SVR was fitted with feature names\n",
      "  warnings.warn(\n",
      "C:\\Users\\asmaa mohammed\\AppData\\Roaming\\Python\\Python310\\site-packages\\sklearn\\base.py:450: UserWarning: X does not have valid feature names, but SVR was fitted with feature names\n",
      "  warnings.warn(\n",
      "C:\\Users\\asmaa mohammed\\AppData\\Roaming\\Python\\Python310\\site-packages\\sklearn\\base.py:450: UserWarning: X does not have valid feature names, but SVR was fitted with feature names\n",
      "  warnings.warn(\n",
      "C:\\Users\\asmaa mohammed\\AppData\\Roaming\\Python\\Python310\\site-packages\\sklearn\\base.py:450: UserWarning: X does not have valid feature names, but SVR was fitted with feature names\n",
      "  warnings.warn(\n",
      "C:\\Users\\asmaa mohammed\\AppData\\Roaming\\Python\\Python310\\site-packages\\sklearn\\base.py:450: UserWarning: X does not have valid feature names, but SVR was fitted with feature names\n",
      "  warnings.warn(\n",
      "C:\\Users\\asmaa mohammed\\AppData\\Roaming\\Python\\Python310\\site-packages\\sklearn\\base.py:450: UserWarning: X does not have valid feature names, but SVR was fitted with feature names\n",
      "  warnings.warn(\n",
      "C:\\Users\\asmaa mohammed\\AppData\\Roaming\\Python\\Python310\\site-packages\\sklearn\\base.py:450: UserWarning: X does not have valid feature names, but SVR was fitted with feature names\n",
      "  warnings.warn(\n",
      "C:\\Users\\asmaa mohammed\\AppData\\Roaming\\Python\\Python310\\site-packages\\sklearn\\base.py:450: UserWarning: X does not have valid feature names, but SVR was fitted with feature names\n",
      "  warnings.warn(\n"
     ]
    },
    {
     "name": "stdout",
     "output_type": "stream",
     "text": [
      "468\n",
      "468\n",
      "468\n",
      "468\n",
      "468\n",
      "468\n",
      "468\n"
     ]
    },
    {
     "name": "stderr",
     "output_type": "stream",
     "text": [
      "C:\\Users\\asmaa mohammed\\AppData\\Roaming\\Python\\Python310\\site-packages\\sklearn\\base.py:450: UserWarning: X does not have valid feature names, but SVR was fitted with feature names\n",
      "  warnings.warn(\n",
      "C:\\Users\\asmaa mohammed\\AppData\\Roaming\\Python\\Python310\\site-packages\\sklearn\\base.py:450: UserWarning: X does not have valid feature names, but SVR was fitted with feature names\n",
      "  warnings.warn(\n",
      "C:\\Users\\asmaa mohammed\\AppData\\Roaming\\Python\\Python310\\site-packages\\sklearn\\base.py:450: UserWarning: X does not have valid feature names, but SVR was fitted with feature names\n",
      "  warnings.warn(\n",
      "C:\\Users\\asmaa mohammed\\AppData\\Roaming\\Python\\Python310\\site-packages\\sklearn\\base.py:450: UserWarning: X does not have valid feature names, but SVR was fitted with feature names\n",
      "  warnings.warn(\n",
      "C:\\Users\\asmaa mohammed\\AppData\\Roaming\\Python\\Python310\\site-packages\\sklearn\\base.py:450: UserWarning: X does not have valid feature names, but SVR was fitted with feature names\n",
      "  warnings.warn(\n",
      "C:\\Users\\asmaa mohammed\\AppData\\Roaming\\Python\\Python310\\site-packages\\sklearn\\base.py:450: UserWarning: X does not have valid feature names, but SVR was fitted with feature names\n",
      "  warnings.warn(\n",
      "C:\\Users\\asmaa mohammed\\AppData\\Roaming\\Python\\Python310\\site-packages\\sklearn\\base.py:450: UserWarning: X does not have valid feature names, but SVR was fitted with feature names\n",
      "  warnings.warn(\n",
      "C:\\Users\\asmaa mohammed\\AppData\\Roaming\\Python\\Python310\\site-packages\\sklearn\\base.py:450: UserWarning: X does not have valid feature names, but SVR was fitted with feature names\n",
      "  warnings.warn(\n",
      "C:\\Users\\asmaa mohammed\\AppData\\Roaming\\Python\\Python310\\site-packages\\sklearn\\base.py:450: UserWarning: X does not have valid feature names, but SVR was fitted with feature names\n",
      "  warnings.warn(\n",
      "C:\\Users\\asmaa mohammed\\AppData\\Roaming\\Python\\Python310\\site-packages\\sklearn\\base.py:450: UserWarning: X does not have valid feature names, but SVR was fitted with feature names\n",
      "  warnings.warn(\n",
      "C:\\Users\\asmaa mohammed\\AppData\\Roaming\\Python\\Python310\\site-packages\\sklearn\\base.py:450: UserWarning: X does not have valid feature names, but SVR was fitted with feature names\n",
      "  warnings.warn(\n",
      "C:\\Users\\asmaa mohammed\\AppData\\Roaming\\Python\\Python310\\site-packages\\sklearn\\base.py:450: UserWarning: X does not have valid feature names, but SVR was fitted with feature names\n",
      "  warnings.warn(\n",
      "C:\\Users\\asmaa mohammed\\AppData\\Roaming\\Python\\Python310\\site-packages\\sklearn\\base.py:450: UserWarning: X does not have valid feature names, but SVR was fitted with feature names\n",
      "  warnings.warn(\n",
      "C:\\Users\\asmaa mohammed\\AppData\\Roaming\\Python\\Python310\\site-packages\\sklearn\\base.py:450: UserWarning: X does not have valid feature names, but SVR was fitted with feature names\n",
      "  warnings.warn(\n",
      "C:\\Users\\asmaa mohammed\\AppData\\Roaming\\Python\\Python310\\site-packages\\sklearn\\base.py:450: UserWarning: X does not have valid feature names, but SVR was fitted with feature names\n",
      "  warnings.warn(\n",
      "C:\\Users\\asmaa mohammed\\AppData\\Roaming\\Python\\Python310\\site-packages\\sklearn\\base.py:450: UserWarning: X does not have valid feature names, but SVR was fitted with feature names\n",
      "  warnings.warn(\n",
      "C:\\Users\\asmaa mohammed\\AppData\\Roaming\\Python\\Python310\\site-packages\\sklearn\\base.py:450: UserWarning: X does not have valid feature names, but SVR was fitted with feature names\n",
      "  warnings.warn(\n",
      "C:\\Users\\asmaa mohammed\\AppData\\Roaming\\Python\\Python310\\site-packages\\sklearn\\base.py:450: UserWarning: X does not have valid feature names, but SVR was fitted with feature names\n",
      "  warnings.warn(\n",
      "C:\\Users\\asmaa mohammed\\AppData\\Roaming\\Python\\Python310\\site-packages\\sklearn\\base.py:450: UserWarning: X does not have valid feature names, but SVR was fitted with feature names\n",
      "  warnings.warn(\n",
      "C:\\Users\\asmaa mohammed\\AppData\\Roaming\\Python\\Python310\\site-packages\\sklearn\\base.py:450: UserWarning: X does not have valid feature names, but SVR was fitted with feature names\n",
      "  warnings.warn(\n",
      "C:\\Users\\asmaa mohammed\\AppData\\Roaming\\Python\\Python310\\site-packages\\sklearn\\base.py:450: UserWarning: X does not have valid feature names, but SVR was fitted with feature names\n",
      "  warnings.warn(\n",
      "C:\\Users\\asmaa mohammed\\AppData\\Roaming\\Python\\Python310\\site-packages\\sklearn\\base.py:450: UserWarning: X does not have valid feature names, but SVR was fitted with feature names\n",
      "  warnings.warn(\n",
      "C:\\Users\\asmaa mohammed\\AppData\\Roaming\\Python\\Python310\\site-packages\\sklearn\\base.py:450: UserWarning: X does not have valid feature names, but SVR was fitted with feature names\n",
      "  warnings.warn(\n",
      "C:\\Users\\asmaa mohammed\\AppData\\Roaming\\Python\\Python310\\site-packages\\sklearn\\base.py:450: UserWarning: X does not have valid feature names, but SVR was fitted with feature names\n",
      "  warnings.warn(\n"
     ]
    },
    {
     "name": "stdout",
     "output_type": "stream",
     "text": [
      "468\n",
      "468\n",
      "468\n",
      "468\n",
      "468\n",
      "468\n",
      "468\n",
      "468\n",
      "468\n"
     ]
    },
    {
     "name": "stderr",
     "output_type": "stream",
     "text": [
      "C:\\Users\\asmaa mohammed\\AppData\\Roaming\\Python\\Python310\\site-packages\\sklearn\\base.py:450: UserWarning: X does not have valid feature names, but SVR was fitted with feature names\n",
      "  warnings.warn(\n",
      "C:\\Users\\asmaa mohammed\\AppData\\Roaming\\Python\\Python310\\site-packages\\sklearn\\base.py:450: UserWarning: X does not have valid feature names, but SVR was fitted with feature names\n",
      "  warnings.warn(\n",
      "C:\\Users\\asmaa mohammed\\AppData\\Roaming\\Python\\Python310\\site-packages\\sklearn\\base.py:450: UserWarning: X does not have valid feature names, but SVR was fitted with feature names\n",
      "  warnings.warn(\n",
      "C:\\Users\\asmaa mohammed\\AppData\\Roaming\\Python\\Python310\\site-packages\\sklearn\\base.py:450: UserWarning: X does not have valid feature names, but SVR was fitted with feature names\n",
      "  warnings.warn(\n",
      "C:\\Users\\asmaa mohammed\\AppData\\Roaming\\Python\\Python310\\site-packages\\sklearn\\base.py:450: UserWarning: X does not have valid feature names, but SVR was fitted with feature names\n",
      "  warnings.warn(\n",
      "C:\\Users\\asmaa mohammed\\AppData\\Roaming\\Python\\Python310\\site-packages\\sklearn\\base.py:450: UserWarning: X does not have valid feature names, but SVR was fitted with feature names\n",
      "  warnings.warn(\n",
      "C:\\Users\\asmaa mohammed\\AppData\\Roaming\\Python\\Python310\\site-packages\\sklearn\\base.py:450: UserWarning: X does not have valid feature names, but SVR was fitted with feature names\n",
      "  warnings.warn(\n",
      "C:\\Users\\asmaa mohammed\\AppData\\Roaming\\Python\\Python310\\site-packages\\sklearn\\base.py:450: UserWarning: X does not have valid feature names, but SVR was fitted with feature names\n",
      "  warnings.warn(\n",
      "C:\\Users\\asmaa mohammed\\AppData\\Roaming\\Python\\Python310\\site-packages\\sklearn\\base.py:450: UserWarning: X does not have valid feature names, but SVR was fitted with feature names\n",
      "  warnings.warn(\n",
      "C:\\Users\\asmaa mohammed\\AppData\\Roaming\\Python\\Python310\\site-packages\\sklearn\\base.py:450: UserWarning: X does not have valid feature names, but SVR was fitted with feature names\n",
      "  warnings.warn(\n",
      "C:\\Users\\asmaa mohammed\\AppData\\Roaming\\Python\\Python310\\site-packages\\sklearn\\base.py:450: UserWarning: X does not have valid feature names, but SVR was fitted with feature names\n",
      "  warnings.warn(\n",
      "C:\\Users\\asmaa mohammed\\AppData\\Roaming\\Python\\Python310\\site-packages\\sklearn\\base.py:450: UserWarning: X does not have valid feature names, but SVR was fitted with feature names\n",
      "  warnings.warn(\n",
      "C:\\Users\\asmaa mohammed\\AppData\\Roaming\\Python\\Python310\\site-packages\\sklearn\\base.py:450: UserWarning: X does not have valid feature names, but SVR was fitted with feature names\n",
      "  warnings.warn(\n",
      "C:\\Users\\asmaa mohammed\\AppData\\Roaming\\Python\\Python310\\site-packages\\sklearn\\base.py:450: UserWarning: X does not have valid feature names, but SVR was fitted with feature names\n",
      "  warnings.warn(\n",
      "C:\\Users\\asmaa mohammed\\AppData\\Roaming\\Python\\Python310\\site-packages\\sklearn\\base.py:450: UserWarning: X does not have valid feature names, but SVR was fitted with feature names\n",
      "  warnings.warn(\n",
      "C:\\Users\\asmaa mohammed\\AppData\\Roaming\\Python\\Python310\\site-packages\\sklearn\\base.py:450: UserWarning: X does not have valid feature names, but SVR was fitted with feature names\n",
      "  warnings.warn(\n",
      "C:\\Users\\asmaa mohammed\\AppData\\Roaming\\Python\\Python310\\site-packages\\sklearn\\base.py:450: UserWarning: X does not have valid feature names, but SVR was fitted with feature names\n",
      "  warnings.warn(\n",
      "C:\\Users\\asmaa mohammed\\AppData\\Roaming\\Python\\Python310\\site-packages\\sklearn\\base.py:450: UserWarning: X does not have valid feature names, but SVR was fitted with feature names\n",
      "  warnings.warn(\n",
      "C:\\Users\\asmaa mohammed\\AppData\\Roaming\\Python\\Python310\\site-packages\\sklearn\\base.py:450: UserWarning: X does not have valid feature names, but SVR was fitted with feature names\n",
      "  warnings.warn(\n",
      "C:\\Users\\asmaa mohammed\\AppData\\Roaming\\Python\\Python310\\site-packages\\sklearn\\base.py:450: UserWarning: X does not have valid feature names, but SVR was fitted with feature names\n",
      "  warnings.warn(\n",
      "C:\\Users\\asmaa mohammed\\AppData\\Roaming\\Python\\Python310\\site-packages\\sklearn\\base.py:450: UserWarning: X does not have valid feature names, but SVR was fitted with feature names\n",
      "  warnings.warn(\n",
      "C:\\Users\\asmaa mohammed\\AppData\\Roaming\\Python\\Python310\\site-packages\\sklearn\\base.py:450: UserWarning: X does not have valid feature names, but SVR was fitted with feature names\n",
      "  warnings.warn(\n",
      "C:\\Users\\asmaa mohammed\\AppData\\Roaming\\Python\\Python310\\site-packages\\sklearn\\base.py:450: UserWarning: X does not have valid feature names, but SVR was fitted with feature names\n",
      "  warnings.warn(\n",
      "C:\\Users\\asmaa mohammed\\AppData\\Roaming\\Python\\Python310\\site-packages\\sklearn\\base.py:450: UserWarning: X does not have valid feature names, but SVR was fitted with feature names\n",
      "  warnings.warn(\n",
      "C:\\Users\\asmaa mohammed\\AppData\\Roaming\\Python\\Python310\\site-packages\\sklearn\\base.py:450: UserWarning: X does not have valid feature names, but SVR was fitted with feature names\n",
      "  warnings.warn(\n"
     ]
    },
    {
     "name": "stdout",
     "output_type": "stream",
     "text": [
      "468\n",
      "468\n",
      "468\n",
      "468\n",
      "468\n",
      "468\n",
      "468\n",
      "468\n"
     ]
    },
    {
     "name": "stderr",
     "output_type": "stream",
     "text": [
      "C:\\Users\\asmaa mohammed\\AppData\\Roaming\\Python\\Python310\\site-packages\\sklearn\\base.py:450: UserWarning: X does not have valid feature names, but SVR was fitted with feature names\n",
      "  warnings.warn(\n",
      "C:\\Users\\asmaa mohammed\\AppData\\Roaming\\Python\\Python310\\site-packages\\sklearn\\base.py:450: UserWarning: X does not have valid feature names, but SVR was fitted with feature names\n",
      "  warnings.warn(\n",
      "C:\\Users\\asmaa mohammed\\AppData\\Roaming\\Python\\Python310\\site-packages\\sklearn\\base.py:450: UserWarning: X does not have valid feature names, but SVR was fitted with feature names\n",
      "  warnings.warn(\n",
      "C:\\Users\\asmaa mohammed\\AppData\\Roaming\\Python\\Python310\\site-packages\\sklearn\\base.py:450: UserWarning: X does not have valid feature names, but SVR was fitted with feature names\n",
      "  warnings.warn(\n",
      "C:\\Users\\asmaa mohammed\\AppData\\Roaming\\Python\\Python310\\site-packages\\sklearn\\base.py:450: UserWarning: X does not have valid feature names, but SVR was fitted with feature names\n",
      "  warnings.warn(\n",
      "C:\\Users\\asmaa mohammed\\AppData\\Roaming\\Python\\Python310\\site-packages\\sklearn\\base.py:450: UserWarning: X does not have valid feature names, but SVR was fitted with feature names\n",
      "  warnings.warn(\n",
      "C:\\Users\\asmaa mohammed\\AppData\\Roaming\\Python\\Python310\\site-packages\\sklearn\\base.py:450: UserWarning: X does not have valid feature names, but SVR was fitted with feature names\n",
      "  warnings.warn(\n",
      "C:\\Users\\asmaa mohammed\\AppData\\Roaming\\Python\\Python310\\site-packages\\sklearn\\base.py:450: UserWarning: X does not have valid feature names, but SVR was fitted with feature names\n",
      "  warnings.warn(\n",
      "C:\\Users\\asmaa mohammed\\AppData\\Roaming\\Python\\Python310\\site-packages\\sklearn\\base.py:450: UserWarning: X does not have valid feature names, but SVR was fitted with feature names\n",
      "  warnings.warn(\n",
      "C:\\Users\\asmaa mohammed\\AppData\\Roaming\\Python\\Python310\\site-packages\\sklearn\\base.py:450: UserWarning: X does not have valid feature names, but SVR was fitted with feature names\n",
      "  warnings.warn(\n",
      "C:\\Users\\asmaa mohammed\\AppData\\Roaming\\Python\\Python310\\site-packages\\sklearn\\base.py:450: UserWarning: X does not have valid feature names, but SVR was fitted with feature names\n",
      "  warnings.warn(\n",
      "C:\\Users\\asmaa mohammed\\AppData\\Roaming\\Python\\Python310\\site-packages\\sklearn\\base.py:450: UserWarning: X does not have valid feature names, but SVR was fitted with feature names\n",
      "  warnings.warn(\n",
      "C:\\Users\\asmaa mohammed\\AppData\\Roaming\\Python\\Python310\\site-packages\\sklearn\\base.py:450: UserWarning: X does not have valid feature names, but SVR was fitted with feature names\n",
      "  warnings.warn(\n",
      "C:\\Users\\asmaa mohammed\\AppData\\Roaming\\Python\\Python310\\site-packages\\sklearn\\base.py:450: UserWarning: X does not have valid feature names, but SVR was fitted with feature names\n",
      "  warnings.warn(\n",
      "C:\\Users\\asmaa mohammed\\AppData\\Roaming\\Python\\Python310\\site-packages\\sklearn\\base.py:450: UserWarning: X does not have valid feature names, but SVR was fitted with feature names\n",
      "  warnings.warn(\n",
      "C:\\Users\\asmaa mohammed\\AppData\\Roaming\\Python\\Python310\\site-packages\\sklearn\\base.py:450: UserWarning: X does not have valid feature names, but SVR was fitted with feature names\n",
      "  warnings.warn(\n",
      "C:\\Users\\asmaa mohammed\\AppData\\Roaming\\Python\\Python310\\site-packages\\sklearn\\base.py:450: UserWarning: X does not have valid feature names, but SVR was fitted with feature names\n",
      "  warnings.warn(\n",
      "C:\\Users\\asmaa mohammed\\AppData\\Roaming\\Python\\Python310\\site-packages\\sklearn\\base.py:450: UserWarning: X does not have valid feature names, but SVR was fitted with feature names\n",
      "  warnings.warn(\n",
      "C:\\Users\\asmaa mohammed\\AppData\\Roaming\\Python\\Python310\\site-packages\\sklearn\\base.py:450: UserWarning: X does not have valid feature names, but SVR was fitted with feature names\n",
      "  warnings.warn(\n",
      "C:\\Users\\asmaa mohammed\\AppData\\Roaming\\Python\\Python310\\site-packages\\sklearn\\base.py:450: UserWarning: X does not have valid feature names, but SVR was fitted with feature names\n",
      "  warnings.warn(\n"
     ]
    },
    {
     "name": "stdout",
     "output_type": "stream",
     "text": [
      "468\n",
      "468\n",
      "468\n",
      "468\n",
      "468\n",
      "468\n",
      "468\n",
      "468\n"
     ]
    },
    {
     "name": "stderr",
     "output_type": "stream",
     "text": [
      "C:\\Users\\asmaa mohammed\\AppData\\Roaming\\Python\\Python310\\site-packages\\sklearn\\base.py:450: UserWarning: X does not have valid feature names, but SVR was fitted with feature names\n",
      "  warnings.warn(\n",
      "C:\\Users\\asmaa mohammed\\AppData\\Roaming\\Python\\Python310\\site-packages\\sklearn\\base.py:450: UserWarning: X does not have valid feature names, but SVR was fitted with feature names\n",
      "  warnings.warn(\n",
      "C:\\Users\\asmaa mohammed\\AppData\\Roaming\\Python\\Python310\\site-packages\\sklearn\\base.py:450: UserWarning: X does not have valid feature names, but SVR was fitted with feature names\n",
      "  warnings.warn(\n",
      "C:\\Users\\asmaa mohammed\\AppData\\Roaming\\Python\\Python310\\site-packages\\sklearn\\base.py:450: UserWarning: X does not have valid feature names, but SVR was fitted with feature names\n",
      "  warnings.warn(\n",
      "C:\\Users\\asmaa mohammed\\AppData\\Roaming\\Python\\Python310\\site-packages\\sklearn\\base.py:450: UserWarning: X does not have valid feature names, but SVR was fitted with feature names\n",
      "  warnings.warn(\n",
      "C:\\Users\\asmaa mohammed\\AppData\\Roaming\\Python\\Python310\\site-packages\\sklearn\\base.py:450: UserWarning: X does not have valid feature names, but SVR was fitted with feature names\n",
      "  warnings.warn(\n",
      "C:\\Users\\asmaa mohammed\\AppData\\Roaming\\Python\\Python310\\site-packages\\sklearn\\base.py:450: UserWarning: X does not have valid feature names, but SVR was fitted with feature names\n",
      "  warnings.warn(\n",
      "C:\\Users\\asmaa mohammed\\AppData\\Roaming\\Python\\Python310\\site-packages\\sklearn\\base.py:450: UserWarning: X does not have valid feature names, but SVR was fitted with feature names\n",
      "  warnings.warn(\n",
      "C:\\Users\\asmaa mohammed\\AppData\\Roaming\\Python\\Python310\\site-packages\\sklearn\\base.py:450: UserWarning: X does not have valid feature names, but SVR was fitted with feature names\n",
      "  warnings.warn(\n",
      "C:\\Users\\asmaa mohammed\\AppData\\Roaming\\Python\\Python310\\site-packages\\sklearn\\base.py:450: UserWarning: X does not have valid feature names, but SVR was fitted with feature names\n",
      "  warnings.warn(\n",
      "C:\\Users\\asmaa mohammed\\AppData\\Roaming\\Python\\Python310\\site-packages\\sklearn\\base.py:450: UserWarning: X does not have valid feature names, but SVR was fitted with feature names\n",
      "  warnings.warn(\n",
      "C:\\Users\\asmaa mohammed\\AppData\\Roaming\\Python\\Python310\\site-packages\\sklearn\\base.py:450: UserWarning: X does not have valid feature names, but SVR was fitted with feature names\n",
      "  warnings.warn(\n",
      "C:\\Users\\asmaa mohammed\\AppData\\Roaming\\Python\\Python310\\site-packages\\sklearn\\base.py:450: UserWarning: X does not have valid feature names, but SVR was fitted with feature names\n",
      "  warnings.warn(\n",
      "C:\\Users\\asmaa mohammed\\AppData\\Roaming\\Python\\Python310\\site-packages\\sklearn\\base.py:450: UserWarning: X does not have valid feature names, but SVR was fitted with feature names\n",
      "  warnings.warn(\n",
      "C:\\Users\\asmaa mohammed\\AppData\\Roaming\\Python\\Python310\\site-packages\\sklearn\\base.py:450: UserWarning: X does not have valid feature names, but SVR was fitted with feature names\n",
      "  warnings.warn(\n",
      "C:\\Users\\asmaa mohammed\\AppData\\Roaming\\Python\\Python310\\site-packages\\sklearn\\base.py:450: UserWarning: X does not have valid feature names, but SVR was fitted with feature names\n",
      "  warnings.warn(\n",
      "C:\\Users\\asmaa mohammed\\AppData\\Roaming\\Python\\Python310\\site-packages\\sklearn\\base.py:450: UserWarning: X does not have valid feature names, but SVR was fitted with feature names\n",
      "  warnings.warn(\n",
      "C:\\Users\\asmaa mohammed\\AppData\\Roaming\\Python\\Python310\\site-packages\\sklearn\\base.py:450: UserWarning: X does not have valid feature names, but SVR was fitted with feature names\n",
      "  warnings.warn(\n",
      "C:\\Users\\asmaa mohammed\\AppData\\Roaming\\Python\\Python310\\site-packages\\sklearn\\base.py:450: UserWarning: X does not have valid feature names, but SVR was fitted with feature names\n",
      "  warnings.warn(\n",
      "C:\\Users\\asmaa mohammed\\AppData\\Roaming\\Python\\Python310\\site-packages\\sklearn\\base.py:450: UserWarning: X does not have valid feature names, but SVR was fitted with feature names\n",
      "  warnings.warn(\n",
      "C:\\Users\\asmaa mohammed\\AppData\\Roaming\\Python\\Python310\\site-packages\\sklearn\\base.py:450: UserWarning: X does not have valid feature names, but SVR was fitted with feature names\n",
      "  warnings.warn(\n",
      "C:\\Users\\asmaa mohammed\\AppData\\Roaming\\Python\\Python310\\site-packages\\sklearn\\base.py:450: UserWarning: X does not have valid feature names, but SVR was fitted with feature names\n",
      "  warnings.warn(\n"
     ]
    },
    {
     "name": "stdout",
     "output_type": "stream",
     "text": [
      "468\n",
      "468\n",
      "468\n",
      "468\n",
      "468\n",
      "468\n",
      "468\n",
      "468\n"
     ]
    },
    {
     "name": "stderr",
     "output_type": "stream",
     "text": [
      "C:\\Users\\asmaa mohammed\\AppData\\Roaming\\Python\\Python310\\site-packages\\sklearn\\base.py:450: UserWarning: X does not have valid feature names, but SVR was fitted with feature names\n",
      "  warnings.warn(\n",
      "C:\\Users\\asmaa mohammed\\AppData\\Roaming\\Python\\Python310\\site-packages\\sklearn\\base.py:450: UserWarning: X does not have valid feature names, but SVR was fitted with feature names\n",
      "  warnings.warn(\n",
      "C:\\Users\\asmaa mohammed\\AppData\\Roaming\\Python\\Python310\\site-packages\\sklearn\\base.py:450: UserWarning: X does not have valid feature names, but SVR was fitted with feature names\n",
      "  warnings.warn(\n",
      "C:\\Users\\asmaa mohammed\\AppData\\Roaming\\Python\\Python310\\site-packages\\sklearn\\base.py:450: UserWarning: X does not have valid feature names, but SVR was fitted with feature names\n",
      "  warnings.warn(\n",
      "C:\\Users\\asmaa mohammed\\AppData\\Roaming\\Python\\Python310\\site-packages\\sklearn\\base.py:450: UserWarning: X does not have valid feature names, but SVR was fitted with feature names\n",
      "  warnings.warn(\n",
      "C:\\Users\\asmaa mohammed\\AppData\\Roaming\\Python\\Python310\\site-packages\\sklearn\\base.py:450: UserWarning: X does not have valid feature names, but SVR was fitted with feature names\n",
      "  warnings.warn(\n",
      "C:\\Users\\asmaa mohammed\\AppData\\Roaming\\Python\\Python310\\site-packages\\sklearn\\base.py:450: UserWarning: X does not have valid feature names, but SVR was fitted with feature names\n",
      "  warnings.warn(\n",
      "C:\\Users\\asmaa mohammed\\AppData\\Roaming\\Python\\Python310\\site-packages\\sklearn\\base.py:450: UserWarning: X does not have valid feature names, but SVR was fitted with feature names\n",
      "  warnings.warn(\n",
      "C:\\Users\\asmaa mohammed\\AppData\\Roaming\\Python\\Python310\\site-packages\\sklearn\\base.py:450: UserWarning: X does not have valid feature names, but SVR was fitted with feature names\n",
      "  warnings.warn(\n",
      "C:\\Users\\asmaa mohammed\\AppData\\Roaming\\Python\\Python310\\site-packages\\sklearn\\base.py:450: UserWarning: X does not have valid feature names, but SVR was fitted with feature names\n",
      "  warnings.warn(\n",
      "C:\\Users\\asmaa mohammed\\AppData\\Roaming\\Python\\Python310\\site-packages\\sklearn\\base.py:450: UserWarning: X does not have valid feature names, but SVR was fitted with feature names\n",
      "  warnings.warn(\n",
      "C:\\Users\\asmaa mohammed\\AppData\\Roaming\\Python\\Python310\\site-packages\\sklearn\\base.py:450: UserWarning: X does not have valid feature names, but SVR was fitted with feature names\n",
      "  warnings.warn(\n",
      "C:\\Users\\asmaa mohammed\\AppData\\Roaming\\Python\\Python310\\site-packages\\sklearn\\base.py:450: UserWarning: X does not have valid feature names, but SVR was fitted with feature names\n",
      "  warnings.warn(\n",
      "C:\\Users\\asmaa mohammed\\AppData\\Roaming\\Python\\Python310\\site-packages\\sklearn\\base.py:450: UserWarning: X does not have valid feature names, but SVR was fitted with feature names\n",
      "  warnings.warn(\n",
      "C:\\Users\\asmaa mohammed\\AppData\\Roaming\\Python\\Python310\\site-packages\\sklearn\\base.py:450: UserWarning: X does not have valid feature names, but SVR was fitted with feature names\n",
      "  warnings.warn(\n",
      "C:\\Users\\asmaa mohammed\\AppData\\Roaming\\Python\\Python310\\site-packages\\sklearn\\base.py:450: UserWarning: X does not have valid feature names, but SVR was fitted with feature names\n",
      "  warnings.warn(\n",
      "C:\\Users\\asmaa mohammed\\AppData\\Roaming\\Python\\Python310\\site-packages\\sklearn\\base.py:450: UserWarning: X does not have valid feature names, but SVR was fitted with feature names\n",
      "  warnings.warn(\n",
      "C:\\Users\\asmaa mohammed\\AppData\\Roaming\\Python\\Python310\\site-packages\\sklearn\\base.py:450: UserWarning: X does not have valid feature names, but SVR was fitted with feature names\n",
      "  warnings.warn(\n",
      "C:\\Users\\asmaa mohammed\\AppData\\Roaming\\Python\\Python310\\site-packages\\sklearn\\base.py:450: UserWarning: X does not have valid feature names, but SVR was fitted with feature names\n",
      "  warnings.warn(\n",
      "C:\\Users\\asmaa mohammed\\AppData\\Roaming\\Python\\Python310\\site-packages\\sklearn\\base.py:450: UserWarning: X does not have valid feature names, but SVR was fitted with feature names\n",
      "  warnings.warn(\n",
      "C:\\Users\\asmaa mohammed\\AppData\\Roaming\\Python\\Python310\\site-packages\\sklearn\\base.py:450: UserWarning: X does not have valid feature names, but SVR was fitted with feature names\n",
      "  warnings.warn(\n",
      "C:\\Users\\asmaa mohammed\\AppData\\Roaming\\Python\\Python310\\site-packages\\sklearn\\base.py:450: UserWarning: X does not have valid feature names, but SVR was fitted with feature names\n",
      "  warnings.warn(\n",
      "C:\\Users\\asmaa mohammed\\AppData\\Roaming\\Python\\Python310\\site-packages\\sklearn\\base.py:450: UserWarning: X does not have valid feature names, but SVR was fitted with feature names\n",
      "  warnings.warn(\n"
     ]
    },
    {
     "name": "stdout",
     "output_type": "stream",
     "text": [
      "468\n",
      "468\n",
      "468\n",
      "468\n",
      "468\n",
      "468\n",
      "468\n"
     ]
    },
    {
     "name": "stderr",
     "output_type": "stream",
     "text": [
      "C:\\Users\\asmaa mohammed\\AppData\\Roaming\\Python\\Python310\\site-packages\\sklearn\\base.py:450: UserWarning: X does not have valid feature names, but SVR was fitted with feature names\n",
      "  warnings.warn(\n",
      "C:\\Users\\asmaa mohammed\\AppData\\Roaming\\Python\\Python310\\site-packages\\sklearn\\base.py:450: UserWarning: X does not have valid feature names, but SVR was fitted with feature names\n",
      "  warnings.warn(\n",
      "C:\\Users\\asmaa mohammed\\AppData\\Roaming\\Python\\Python310\\site-packages\\sklearn\\base.py:450: UserWarning: X does not have valid feature names, but SVR was fitted with feature names\n",
      "  warnings.warn(\n",
      "C:\\Users\\asmaa mohammed\\AppData\\Roaming\\Python\\Python310\\site-packages\\sklearn\\base.py:450: UserWarning: X does not have valid feature names, but SVR was fitted with feature names\n",
      "  warnings.warn(\n",
      "C:\\Users\\asmaa mohammed\\AppData\\Roaming\\Python\\Python310\\site-packages\\sklearn\\base.py:450: UserWarning: X does not have valid feature names, but SVR was fitted with feature names\n",
      "  warnings.warn(\n",
      "C:\\Users\\asmaa mohammed\\AppData\\Roaming\\Python\\Python310\\site-packages\\sklearn\\base.py:450: UserWarning: X does not have valid feature names, but SVR was fitted with feature names\n",
      "  warnings.warn(\n",
      "C:\\Users\\asmaa mohammed\\AppData\\Roaming\\Python\\Python310\\site-packages\\sklearn\\base.py:450: UserWarning: X does not have valid feature names, but SVR was fitted with feature names\n",
      "  warnings.warn(\n",
      "C:\\Users\\asmaa mohammed\\AppData\\Roaming\\Python\\Python310\\site-packages\\sklearn\\base.py:450: UserWarning: X does not have valid feature names, but SVR was fitted with feature names\n",
      "  warnings.warn(\n",
      "C:\\Users\\asmaa mohammed\\AppData\\Roaming\\Python\\Python310\\site-packages\\sklearn\\base.py:450: UserWarning: X does not have valid feature names, but SVR was fitted with feature names\n",
      "  warnings.warn(\n",
      "C:\\Users\\asmaa mohammed\\AppData\\Roaming\\Python\\Python310\\site-packages\\sklearn\\base.py:450: UserWarning: X does not have valid feature names, but SVR was fitted with feature names\n",
      "  warnings.warn(\n",
      "C:\\Users\\asmaa mohammed\\AppData\\Roaming\\Python\\Python310\\site-packages\\sklearn\\base.py:450: UserWarning: X does not have valid feature names, but SVR was fitted with feature names\n",
      "  warnings.warn(\n",
      "C:\\Users\\asmaa mohammed\\AppData\\Roaming\\Python\\Python310\\site-packages\\sklearn\\base.py:450: UserWarning: X does not have valid feature names, but SVR was fitted with feature names\n",
      "  warnings.warn(\n",
      "C:\\Users\\asmaa mohammed\\AppData\\Roaming\\Python\\Python310\\site-packages\\sklearn\\base.py:450: UserWarning: X does not have valid feature names, but SVR was fitted with feature names\n",
      "  warnings.warn(\n",
      "C:\\Users\\asmaa mohammed\\AppData\\Roaming\\Python\\Python310\\site-packages\\sklearn\\base.py:450: UserWarning: X does not have valid feature names, but SVR was fitted with feature names\n",
      "  warnings.warn(\n",
      "C:\\Users\\asmaa mohammed\\AppData\\Roaming\\Python\\Python310\\site-packages\\sklearn\\base.py:450: UserWarning: X does not have valid feature names, but SVR was fitted with feature names\n",
      "  warnings.warn(\n",
      "C:\\Users\\asmaa mohammed\\AppData\\Roaming\\Python\\Python310\\site-packages\\sklearn\\base.py:450: UserWarning: X does not have valid feature names, but SVR was fitted with feature names\n",
      "  warnings.warn(\n",
      "C:\\Users\\asmaa mohammed\\AppData\\Roaming\\Python\\Python310\\site-packages\\sklearn\\base.py:450: UserWarning: X does not have valid feature names, but SVR was fitted with feature names\n",
      "  warnings.warn(\n",
      "C:\\Users\\asmaa mohammed\\AppData\\Roaming\\Python\\Python310\\site-packages\\sklearn\\base.py:450: UserWarning: X does not have valid feature names, but SVR was fitted with feature names\n",
      "  warnings.warn(\n",
      "C:\\Users\\asmaa mohammed\\AppData\\Roaming\\Python\\Python310\\site-packages\\sklearn\\base.py:450: UserWarning: X does not have valid feature names, but SVR was fitted with feature names\n",
      "  warnings.warn(\n"
     ]
    },
    {
     "name": "stdout",
     "output_type": "stream",
     "text": [
      "468\n",
      "468\n",
      "468\n",
      "468\n",
      "468\n",
      "468\n",
      "468\n",
      "468\n"
     ]
    },
    {
     "name": "stderr",
     "output_type": "stream",
     "text": [
      "C:\\Users\\asmaa mohammed\\AppData\\Roaming\\Python\\Python310\\site-packages\\sklearn\\base.py:450: UserWarning: X does not have valid feature names, but SVR was fitted with feature names\n",
      "  warnings.warn(\n",
      "C:\\Users\\asmaa mohammed\\AppData\\Roaming\\Python\\Python310\\site-packages\\sklearn\\base.py:450: UserWarning: X does not have valid feature names, but SVR was fitted with feature names\n",
      "  warnings.warn(\n",
      "C:\\Users\\asmaa mohammed\\AppData\\Roaming\\Python\\Python310\\site-packages\\sklearn\\base.py:450: UserWarning: X does not have valid feature names, but SVR was fitted with feature names\n",
      "  warnings.warn(\n",
      "C:\\Users\\asmaa mohammed\\AppData\\Roaming\\Python\\Python310\\site-packages\\sklearn\\base.py:450: UserWarning: X does not have valid feature names, but SVR was fitted with feature names\n",
      "  warnings.warn(\n",
      "C:\\Users\\asmaa mohammed\\AppData\\Roaming\\Python\\Python310\\site-packages\\sklearn\\base.py:450: UserWarning: X does not have valid feature names, but SVR was fitted with feature names\n",
      "  warnings.warn(\n",
      "C:\\Users\\asmaa mohammed\\AppData\\Roaming\\Python\\Python310\\site-packages\\sklearn\\base.py:450: UserWarning: X does not have valid feature names, but SVR was fitted with feature names\n",
      "  warnings.warn(\n",
      "C:\\Users\\asmaa mohammed\\AppData\\Roaming\\Python\\Python310\\site-packages\\sklearn\\base.py:450: UserWarning: X does not have valid feature names, but SVR was fitted with feature names\n",
      "  warnings.warn(\n",
      "C:\\Users\\asmaa mohammed\\AppData\\Roaming\\Python\\Python310\\site-packages\\sklearn\\base.py:450: UserWarning: X does not have valid feature names, but SVR was fitted with feature names\n",
      "  warnings.warn(\n",
      "C:\\Users\\asmaa mohammed\\AppData\\Roaming\\Python\\Python310\\site-packages\\sklearn\\base.py:450: UserWarning: X does not have valid feature names, but SVR was fitted with feature names\n",
      "  warnings.warn(\n",
      "C:\\Users\\asmaa mohammed\\AppData\\Roaming\\Python\\Python310\\site-packages\\sklearn\\base.py:450: UserWarning: X does not have valid feature names, but SVR was fitted with feature names\n",
      "  warnings.warn(\n",
      "C:\\Users\\asmaa mohammed\\AppData\\Roaming\\Python\\Python310\\site-packages\\sklearn\\base.py:450: UserWarning: X does not have valid feature names, but SVR was fitted with feature names\n",
      "  warnings.warn(\n",
      "C:\\Users\\asmaa mohammed\\AppData\\Roaming\\Python\\Python310\\site-packages\\sklearn\\base.py:450: UserWarning: X does not have valid feature names, but SVR was fitted with feature names\n",
      "  warnings.warn(\n",
      "C:\\Users\\asmaa mohammed\\AppData\\Roaming\\Python\\Python310\\site-packages\\sklearn\\base.py:450: UserWarning: X does not have valid feature names, but SVR was fitted with feature names\n",
      "  warnings.warn(\n",
      "C:\\Users\\asmaa mohammed\\AppData\\Roaming\\Python\\Python310\\site-packages\\sklearn\\base.py:450: UserWarning: X does not have valid feature names, but SVR was fitted with feature names\n",
      "  warnings.warn(\n",
      "C:\\Users\\asmaa mohammed\\AppData\\Roaming\\Python\\Python310\\site-packages\\sklearn\\base.py:450: UserWarning: X does not have valid feature names, but SVR was fitted with feature names\n",
      "  warnings.warn(\n",
      "C:\\Users\\asmaa mohammed\\AppData\\Roaming\\Python\\Python310\\site-packages\\sklearn\\base.py:450: UserWarning: X does not have valid feature names, but SVR was fitted with feature names\n",
      "  warnings.warn(\n",
      "C:\\Users\\asmaa mohammed\\AppData\\Roaming\\Python\\Python310\\site-packages\\sklearn\\base.py:450: UserWarning: X does not have valid feature names, but SVR was fitted with feature names\n",
      "  warnings.warn(\n",
      "C:\\Users\\asmaa mohammed\\AppData\\Roaming\\Python\\Python310\\site-packages\\sklearn\\base.py:450: UserWarning: X does not have valid feature names, but SVR was fitted with feature names\n",
      "  warnings.warn(\n",
      "C:\\Users\\asmaa mohammed\\AppData\\Roaming\\Python\\Python310\\site-packages\\sklearn\\base.py:450: UserWarning: X does not have valid feature names, but SVR was fitted with feature names\n",
      "  warnings.warn(\n",
      "C:\\Users\\asmaa mohammed\\AppData\\Roaming\\Python\\Python310\\site-packages\\sklearn\\base.py:450: UserWarning: X does not have valid feature names, but SVR was fitted with feature names\n",
      "  warnings.warn(\n",
      "C:\\Users\\asmaa mohammed\\AppData\\Roaming\\Python\\Python310\\site-packages\\sklearn\\base.py:450: UserWarning: X does not have valid feature names, but SVR was fitted with feature names\n",
      "  warnings.warn(\n",
      "C:\\Users\\asmaa mohammed\\AppData\\Roaming\\Python\\Python310\\site-packages\\sklearn\\base.py:450: UserWarning: X does not have valid feature names, but SVR was fitted with feature names\n",
      "  warnings.warn(\n",
      "C:\\Users\\asmaa mohammed\\AppData\\Roaming\\Python\\Python310\\site-packages\\sklearn\\base.py:450: UserWarning: X does not have valid feature names, but SVR was fitted with feature names\n",
      "  warnings.warn(\n"
     ]
    },
    {
     "name": "stdout",
     "output_type": "stream",
     "text": [
      "468\n",
      "468\n",
      "468\n",
      "468\n",
      "468\n",
      "468\n",
      "468\n",
      "468\n"
     ]
    },
    {
     "name": "stderr",
     "output_type": "stream",
     "text": [
      "C:\\Users\\asmaa mohammed\\AppData\\Roaming\\Python\\Python310\\site-packages\\sklearn\\base.py:450: UserWarning: X does not have valid feature names, but SVR was fitted with feature names\n",
      "  warnings.warn(\n",
      "C:\\Users\\asmaa mohammed\\AppData\\Roaming\\Python\\Python310\\site-packages\\sklearn\\base.py:450: UserWarning: X does not have valid feature names, but SVR was fitted with feature names\n",
      "  warnings.warn(\n",
      "C:\\Users\\asmaa mohammed\\AppData\\Roaming\\Python\\Python310\\site-packages\\sklearn\\base.py:450: UserWarning: X does not have valid feature names, but SVR was fitted with feature names\n",
      "  warnings.warn(\n",
      "C:\\Users\\asmaa mohammed\\AppData\\Roaming\\Python\\Python310\\site-packages\\sklearn\\base.py:450: UserWarning: X does not have valid feature names, but SVR was fitted with feature names\n",
      "  warnings.warn(\n",
      "C:\\Users\\asmaa mohammed\\AppData\\Roaming\\Python\\Python310\\site-packages\\sklearn\\base.py:450: UserWarning: X does not have valid feature names, but SVR was fitted with feature names\n",
      "  warnings.warn(\n",
      "C:\\Users\\asmaa mohammed\\AppData\\Roaming\\Python\\Python310\\site-packages\\sklearn\\base.py:450: UserWarning: X does not have valid feature names, but SVR was fitted with feature names\n",
      "  warnings.warn(\n",
      "C:\\Users\\asmaa mohammed\\AppData\\Roaming\\Python\\Python310\\site-packages\\sklearn\\base.py:450: UserWarning: X does not have valid feature names, but SVR was fitted with feature names\n",
      "  warnings.warn(\n",
      "C:\\Users\\asmaa mohammed\\AppData\\Roaming\\Python\\Python310\\site-packages\\sklearn\\base.py:450: UserWarning: X does not have valid feature names, but SVR was fitted with feature names\n",
      "  warnings.warn(\n",
      "C:\\Users\\asmaa mohammed\\AppData\\Roaming\\Python\\Python310\\site-packages\\sklearn\\base.py:450: UserWarning: X does not have valid feature names, but SVR was fitted with feature names\n",
      "  warnings.warn(\n",
      "C:\\Users\\asmaa mohammed\\AppData\\Roaming\\Python\\Python310\\site-packages\\sklearn\\base.py:450: UserWarning: X does not have valid feature names, but SVR was fitted with feature names\n",
      "  warnings.warn(\n",
      "C:\\Users\\asmaa mohammed\\AppData\\Roaming\\Python\\Python310\\site-packages\\sklearn\\base.py:450: UserWarning: X does not have valid feature names, but SVR was fitted with feature names\n",
      "  warnings.warn(\n",
      "C:\\Users\\asmaa mohammed\\AppData\\Roaming\\Python\\Python310\\site-packages\\sklearn\\base.py:450: UserWarning: X does not have valid feature names, but SVR was fitted with feature names\n",
      "  warnings.warn(\n",
      "C:\\Users\\asmaa mohammed\\AppData\\Roaming\\Python\\Python310\\site-packages\\sklearn\\base.py:450: UserWarning: X does not have valid feature names, but SVR was fitted with feature names\n",
      "  warnings.warn(\n",
      "C:\\Users\\asmaa mohammed\\AppData\\Roaming\\Python\\Python310\\site-packages\\sklearn\\base.py:450: UserWarning: X does not have valid feature names, but SVR was fitted with feature names\n",
      "  warnings.warn(\n",
      "C:\\Users\\asmaa mohammed\\AppData\\Roaming\\Python\\Python310\\site-packages\\sklearn\\base.py:450: UserWarning: X does not have valid feature names, but SVR was fitted with feature names\n",
      "  warnings.warn(\n",
      "C:\\Users\\asmaa mohammed\\AppData\\Roaming\\Python\\Python310\\site-packages\\sklearn\\base.py:450: UserWarning: X does not have valid feature names, but SVR was fitted with feature names\n",
      "  warnings.warn(\n",
      "C:\\Users\\asmaa mohammed\\AppData\\Roaming\\Python\\Python310\\site-packages\\sklearn\\base.py:450: UserWarning: X does not have valid feature names, but SVR was fitted with feature names\n",
      "  warnings.warn(\n",
      "C:\\Users\\asmaa mohammed\\AppData\\Roaming\\Python\\Python310\\site-packages\\sklearn\\base.py:450: UserWarning: X does not have valid feature names, but SVR was fitted with feature names\n",
      "  warnings.warn(\n",
      "C:\\Users\\asmaa mohammed\\AppData\\Roaming\\Python\\Python310\\site-packages\\sklearn\\base.py:450: UserWarning: X does not have valid feature names, but SVR was fitted with feature names\n",
      "  warnings.warn(\n",
      "C:\\Users\\asmaa mohammed\\AppData\\Roaming\\Python\\Python310\\site-packages\\sklearn\\base.py:450: UserWarning: X does not have valid feature names, but SVR was fitted with feature names\n",
      "  warnings.warn(\n",
      "C:\\Users\\asmaa mohammed\\AppData\\Roaming\\Python\\Python310\\site-packages\\sklearn\\base.py:450: UserWarning: X does not have valid feature names, but SVR was fitted with feature names\n",
      "  warnings.warn(\n"
     ]
    },
    {
     "name": "stdout",
     "output_type": "stream",
     "text": [
      "468\n",
      "468\n",
      "468\n",
      "468\n",
      "468\n",
      "468\n",
      "468\n"
     ]
    },
    {
     "name": "stderr",
     "output_type": "stream",
     "text": [
      "C:\\Users\\asmaa mohammed\\AppData\\Roaming\\Python\\Python310\\site-packages\\sklearn\\base.py:450: UserWarning: X does not have valid feature names, but SVR was fitted with feature names\n",
      "  warnings.warn(\n",
      "C:\\Users\\asmaa mohammed\\AppData\\Roaming\\Python\\Python310\\site-packages\\sklearn\\base.py:450: UserWarning: X does not have valid feature names, but SVR was fitted with feature names\n",
      "  warnings.warn(\n",
      "C:\\Users\\asmaa mohammed\\AppData\\Roaming\\Python\\Python310\\site-packages\\sklearn\\base.py:450: UserWarning: X does not have valid feature names, but SVR was fitted with feature names\n",
      "  warnings.warn(\n",
      "C:\\Users\\asmaa mohammed\\AppData\\Roaming\\Python\\Python310\\site-packages\\sklearn\\base.py:450: UserWarning: X does not have valid feature names, but SVR was fitted with feature names\n",
      "  warnings.warn(\n",
      "C:\\Users\\asmaa mohammed\\AppData\\Roaming\\Python\\Python310\\site-packages\\sklearn\\base.py:450: UserWarning: X does not have valid feature names, but SVR was fitted with feature names\n",
      "  warnings.warn(\n",
      "C:\\Users\\asmaa mohammed\\AppData\\Roaming\\Python\\Python310\\site-packages\\sklearn\\base.py:450: UserWarning: X does not have valid feature names, but SVR was fitted with feature names\n",
      "  warnings.warn(\n",
      "C:\\Users\\asmaa mohammed\\AppData\\Roaming\\Python\\Python310\\site-packages\\sklearn\\base.py:450: UserWarning: X does not have valid feature names, but SVR was fitted with feature names\n",
      "  warnings.warn(\n",
      "C:\\Users\\asmaa mohammed\\AppData\\Roaming\\Python\\Python310\\site-packages\\sklearn\\base.py:450: UserWarning: X does not have valid feature names, but SVR was fitted with feature names\n",
      "  warnings.warn(\n",
      "C:\\Users\\asmaa mohammed\\AppData\\Roaming\\Python\\Python310\\site-packages\\sklearn\\base.py:450: UserWarning: X does not have valid feature names, but SVR was fitted with feature names\n",
      "  warnings.warn(\n",
      "C:\\Users\\asmaa mohammed\\AppData\\Roaming\\Python\\Python310\\site-packages\\sklearn\\base.py:450: UserWarning: X does not have valid feature names, but SVR was fitted with feature names\n",
      "  warnings.warn(\n",
      "C:\\Users\\asmaa mohammed\\AppData\\Roaming\\Python\\Python310\\site-packages\\sklearn\\base.py:450: UserWarning: X does not have valid feature names, but SVR was fitted with feature names\n",
      "  warnings.warn(\n",
      "C:\\Users\\asmaa mohammed\\AppData\\Roaming\\Python\\Python310\\site-packages\\sklearn\\base.py:450: UserWarning: X does not have valid feature names, but SVR was fitted with feature names\n",
      "  warnings.warn(\n",
      "C:\\Users\\asmaa mohammed\\AppData\\Roaming\\Python\\Python310\\site-packages\\sklearn\\base.py:450: UserWarning: X does not have valid feature names, but SVR was fitted with feature names\n",
      "  warnings.warn(\n",
      "C:\\Users\\asmaa mohammed\\AppData\\Roaming\\Python\\Python310\\site-packages\\sklearn\\base.py:450: UserWarning: X does not have valid feature names, but SVR was fitted with feature names\n",
      "  warnings.warn(\n",
      "C:\\Users\\asmaa mohammed\\AppData\\Roaming\\Python\\Python310\\site-packages\\sklearn\\base.py:450: UserWarning: X does not have valid feature names, but SVR was fitted with feature names\n",
      "  warnings.warn(\n",
      "C:\\Users\\asmaa mohammed\\AppData\\Roaming\\Python\\Python310\\site-packages\\sklearn\\base.py:450: UserWarning: X does not have valid feature names, but SVR was fitted with feature names\n",
      "  warnings.warn(\n",
      "C:\\Users\\asmaa mohammed\\AppData\\Roaming\\Python\\Python310\\site-packages\\sklearn\\base.py:450: UserWarning: X does not have valid feature names, but SVR was fitted with feature names\n",
      "  warnings.warn(\n",
      "C:\\Users\\asmaa mohammed\\AppData\\Roaming\\Python\\Python310\\site-packages\\sklearn\\base.py:450: UserWarning: X does not have valid feature names, but SVR was fitted with feature names\n",
      "  warnings.warn(\n",
      "C:\\Users\\asmaa mohammed\\AppData\\Roaming\\Python\\Python310\\site-packages\\sklearn\\base.py:450: UserWarning: X does not have valid feature names, but SVR was fitted with feature names\n",
      "  warnings.warn(\n"
     ]
    },
    {
     "name": "stdout",
     "output_type": "stream",
     "text": [
      "468\n",
      "468\n",
      "468\n",
      "468\n",
      "468\n",
      "468\n",
      "468\n"
     ]
    },
    {
     "name": "stderr",
     "output_type": "stream",
     "text": [
      "C:\\Users\\asmaa mohammed\\AppData\\Roaming\\Python\\Python310\\site-packages\\sklearn\\base.py:450: UserWarning: X does not have valid feature names, but SVR was fitted with feature names\n",
      "  warnings.warn(\n",
      "C:\\Users\\asmaa mohammed\\AppData\\Roaming\\Python\\Python310\\site-packages\\sklearn\\base.py:450: UserWarning: X does not have valid feature names, but SVR was fitted with feature names\n",
      "  warnings.warn(\n",
      "C:\\Users\\asmaa mohammed\\AppData\\Roaming\\Python\\Python310\\site-packages\\sklearn\\base.py:450: UserWarning: X does not have valid feature names, but SVR was fitted with feature names\n",
      "  warnings.warn(\n",
      "C:\\Users\\asmaa mohammed\\AppData\\Roaming\\Python\\Python310\\site-packages\\sklearn\\base.py:450: UserWarning: X does not have valid feature names, but SVR was fitted with feature names\n",
      "  warnings.warn(\n",
      "C:\\Users\\asmaa mohammed\\AppData\\Roaming\\Python\\Python310\\site-packages\\sklearn\\base.py:450: UserWarning: X does not have valid feature names, but SVR was fitted with feature names\n",
      "  warnings.warn(\n",
      "C:\\Users\\asmaa mohammed\\AppData\\Roaming\\Python\\Python310\\site-packages\\sklearn\\base.py:450: UserWarning: X does not have valid feature names, but SVR was fitted with feature names\n",
      "  warnings.warn(\n",
      "C:\\Users\\asmaa mohammed\\AppData\\Roaming\\Python\\Python310\\site-packages\\sklearn\\base.py:450: UserWarning: X does not have valid feature names, but SVR was fitted with feature names\n",
      "  warnings.warn(\n",
      "C:\\Users\\asmaa mohammed\\AppData\\Roaming\\Python\\Python310\\site-packages\\sklearn\\base.py:450: UserWarning: X does not have valid feature names, but SVR was fitted with feature names\n",
      "  warnings.warn(\n",
      "C:\\Users\\asmaa mohammed\\AppData\\Roaming\\Python\\Python310\\site-packages\\sklearn\\base.py:450: UserWarning: X does not have valid feature names, but SVR was fitted with feature names\n",
      "  warnings.warn(\n",
      "C:\\Users\\asmaa mohammed\\AppData\\Roaming\\Python\\Python310\\site-packages\\sklearn\\base.py:450: UserWarning: X does not have valid feature names, but SVR was fitted with feature names\n",
      "  warnings.warn(\n",
      "C:\\Users\\asmaa mohammed\\AppData\\Roaming\\Python\\Python310\\site-packages\\sklearn\\base.py:450: UserWarning: X does not have valid feature names, but SVR was fitted with feature names\n",
      "  warnings.warn(\n",
      "C:\\Users\\asmaa mohammed\\AppData\\Roaming\\Python\\Python310\\site-packages\\sklearn\\base.py:450: UserWarning: X does not have valid feature names, but SVR was fitted with feature names\n",
      "  warnings.warn(\n",
      "C:\\Users\\asmaa mohammed\\AppData\\Roaming\\Python\\Python310\\site-packages\\sklearn\\base.py:450: UserWarning: X does not have valid feature names, but SVR was fitted with feature names\n",
      "  warnings.warn(\n",
      "C:\\Users\\asmaa mohammed\\AppData\\Roaming\\Python\\Python310\\site-packages\\sklearn\\base.py:450: UserWarning: X does not have valid feature names, but SVR was fitted with feature names\n",
      "  warnings.warn(\n",
      "C:\\Users\\asmaa mohammed\\AppData\\Roaming\\Python\\Python310\\site-packages\\sklearn\\base.py:450: UserWarning: X does not have valid feature names, but SVR was fitted with feature names\n",
      "  warnings.warn(\n",
      "C:\\Users\\asmaa mohammed\\AppData\\Roaming\\Python\\Python310\\site-packages\\sklearn\\base.py:450: UserWarning: X does not have valid feature names, but SVR was fitted with feature names\n",
      "  warnings.warn(\n",
      "C:\\Users\\asmaa mohammed\\AppData\\Roaming\\Python\\Python310\\site-packages\\sklearn\\base.py:450: UserWarning: X does not have valid feature names, but SVR was fitted with feature names\n",
      "  warnings.warn(\n",
      "C:\\Users\\asmaa mohammed\\AppData\\Roaming\\Python\\Python310\\site-packages\\sklearn\\base.py:450: UserWarning: X does not have valid feature names, but SVR was fitted with feature names\n",
      "  warnings.warn(\n",
      "C:\\Users\\asmaa mohammed\\AppData\\Roaming\\Python\\Python310\\site-packages\\sklearn\\base.py:450: UserWarning: X does not have valid feature names, but SVR was fitted with feature names\n",
      "  warnings.warn(\n",
      "C:\\Users\\asmaa mohammed\\AppData\\Roaming\\Python\\Python310\\site-packages\\sklearn\\base.py:450: UserWarning: X does not have valid feature names, but SVR was fitted with feature names\n",
      "  warnings.warn(\n",
      "C:\\Users\\asmaa mohammed\\AppData\\Roaming\\Python\\Python310\\site-packages\\sklearn\\base.py:450: UserWarning: X does not have valid feature names, but SVR was fitted with feature names\n",
      "  warnings.warn(\n"
     ]
    },
    {
     "name": "stdout",
     "output_type": "stream",
     "text": [
      "468\n",
      "468\n",
      "468\n",
      "468\n",
      "468\n",
      "468\n",
      "468\n",
      "468\n"
     ]
    },
    {
     "name": "stderr",
     "output_type": "stream",
     "text": [
      "C:\\Users\\asmaa mohammed\\AppData\\Roaming\\Python\\Python310\\site-packages\\sklearn\\base.py:450: UserWarning: X does not have valid feature names, but SVR was fitted with feature names\n",
      "  warnings.warn(\n",
      "C:\\Users\\asmaa mohammed\\AppData\\Roaming\\Python\\Python310\\site-packages\\sklearn\\base.py:450: UserWarning: X does not have valid feature names, but SVR was fitted with feature names\n",
      "  warnings.warn(\n",
      "C:\\Users\\asmaa mohammed\\AppData\\Roaming\\Python\\Python310\\site-packages\\sklearn\\base.py:450: UserWarning: X does not have valid feature names, but SVR was fitted with feature names\n",
      "  warnings.warn(\n",
      "C:\\Users\\asmaa mohammed\\AppData\\Roaming\\Python\\Python310\\site-packages\\sklearn\\base.py:450: UserWarning: X does not have valid feature names, but SVR was fitted with feature names\n",
      "  warnings.warn(\n",
      "C:\\Users\\asmaa mohammed\\AppData\\Roaming\\Python\\Python310\\site-packages\\sklearn\\base.py:450: UserWarning: X does not have valid feature names, but SVR was fitted with feature names\n",
      "  warnings.warn(\n",
      "C:\\Users\\asmaa mohammed\\AppData\\Roaming\\Python\\Python310\\site-packages\\sklearn\\base.py:450: UserWarning: X does not have valid feature names, but SVR was fitted with feature names\n",
      "  warnings.warn(\n",
      "C:\\Users\\asmaa mohammed\\AppData\\Roaming\\Python\\Python310\\site-packages\\sklearn\\base.py:450: UserWarning: X does not have valid feature names, but SVR was fitted with feature names\n",
      "  warnings.warn(\n",
      "C:\\Users\\asmaa mohammed\\AppData\\Roaming\\Python\\Python310\\site-packages\\sklearn\\base.py:450: UserWarning: X does not have valid feature names, but SVR was fitted with feature names\n",
      "  warnings.warn(\n",
      "C:\\Users\\asmaa mohammed\\AppData\\Roaming\\Python\\Python310\\site-packages\\sklearn\\base.py:450: UserWarning: X does not have valid feature names, but SVR was fitted with feature names\n",
      "  warnings.warn(\n",
      "C:\\Users\\asmaa mohammed\\AppData\\Roaming\\Python\\Python310\\site-packages\\sklearn\\base.py:450: UserWarning: X does not have valid feature names, but SVR was fitted with feature names\n",
      "  warnings.warn(\n",
      "C:\\Users\\asmaa mohammed\\AppData\\Roaming\\Python\\Python310\\site-packages\\sklearn\\base.py:450: UserWarning: X does not have valid feature names, but SVR was fitted with feature names\n",
      "  warnings.warn(\n",
      "C:\\Users\\asmaa mohammed\\AppData\\Roaming\\Python\\Python310\\site-packages\\sklearn\\base.py:450: UserWarning: X does not have valid feature names, but SVR was fitted with feature names\n",
      "  warnings.warn(\n",
      "C:\\Users\\asmaa mohammed\\AppData\\Roaming\\Python\\Python310\\site-packages\\sklearn\\base.py:450: UserWarning: X does not have valid feature names, but SVR was fitted with feature names\n",
      "  warnings.warn(\n",
      "C:\\Users\\asmaa mohammed\\AppData\\Roaming\\Python\\Python310\\site-packages\\sklearn\\base.py:450: UserWarning: X does not have valid feature names, but SVR was fitted with feature names\n",
      "  warnings.warn(\n",
      "C:\\Users\\asmaa mohammed\\AppData\\Roaming\\Python\\Python310\\site-packages\\sklearn\\base.py:450: UserWarning: X does not have valid feature names, but SVR was fitted with feature names\n",
      "  warnings.warn(\n",
      "C:\\Users\\asmaa mohammed\\AppData\\Roaming\\Python\\Python310\\site-packages\\sklearn\\base.py:450: UserWarning: X does not have valid feature names, but SVR was fitted with feature names\n",
      "  warnings.warn(\n",
      "C:\\Users\\asmaa mohammed\\AppData\\Roaming\\Python\\Python310\\site-packages\\sklearn\\base.py:450: UserWarning: X does not have valid feature names, but SVR was fitted with feature names\n",
      "  warnings.warn(\n",
      "C:\\Users\\asmaa mohammed\\AppData\\Roaming\\Python\\Python310\\site-packages\\sklearn\\base.py:450: UserWarning: X does not have valid feature names, but SVR was fitted with feature names\n",
      "  warnings.warn(\n",
      "C:\\Users\\asmaa mohammed\\AppData\\Roaming\\Python\\Python310\\site-packages\\sklearn\\base.py:450: UserWarning: X does not have valid feature names, but SVR was fitted with feature names\n",
      "  warnings.warn(\n",
      "C:\\Users\\asmaa mohammed\\AppData\\Roaming\\Python\\Python310\\site-packages\\sklearn\\base.py:450: UserWarning: X does not have valid feature names, but SVR was fitted with feature names\n",
      "  warnings.warn(\n",
      "C:\\Users\\asmaa mohammed\\AppData\\Roaming\\Python\\Python310\\site-packages\\sklearn\\base.py:450: UserWarning: X does not have valid feature names, but SVR was fitted with feature names\n",
      "  warnings.warn(\n",
      "C:\\Users\\asmaa mohammed\\AppData\\Roaming\\Python\\Python310\\site-packages\\sklearn\\base.py:450: UserWarning: X does not have valid feature names, but SVR was fitted with feature names\n",
      "  warnings.warn(\n",
      "C:\\Users\\asmaa mohammed\\AppData\\Roaming\\Python\\Python310\\site-packages\\sklearn\\base.py:450: UserWarning: X does not have valid feature names, but SVR was fitted with feature names\n",
      "  warnings.warn(\n",
      "C:\\Users\\asmaa mohammed\\AppData\\Roaming\\Python\\Python310\\site-packages\\sklearn\\base.py:450: UserWarning: X does not have valid feature names, but SVR was fitted with feature names\n",
      "  warnings.warn(\n",
      "C:\\Users\\asmaa mohammed\\AppData\\Roaming\\Python\\Python310\\site-packages\\sklearn\\base.py:450: UserWarning: X does not have valid feature names, but SVR was fitted with feature names\n",
      "  warnings.warn(\n",
      "C:\\Users\\asmaa mohammed\\AppData\\Roaming\\Python\\Python310\\site-packages\\sklearn\\base.py:450: UserWarning: X does not have valid feature names, but SVR was fitted with feature names\n",
      "  warnings.warn(\n",
      "C:\\Users\\asmaa mohammed\\AppData\\Roaming\\Python\\Python310\\site-packages\\sklearn\\base.py:450: UserWarning: X does not have valid feature names, but SVR was fitted with feature names\n",
      "  warnings.warn(\n",
      "C:\\Users\\asmaa mohammed\\AppData\\Roaming\\Python\\Python310\\site-packages\\sklearn\\base.py:450: UserWarning: X does not have valid feature names, but SVR was fitted with feature names\n",
      "  warnings.warn(\n",
      "C:\\Users\\asmaa mohammed\\AppData\\Roaming\\Python\\Python310\\site-packages\\sklearn\\base.py:450: UserWarning: X does not have valid feature names, but SVR was fitted with feature names\n",
      "  warnings.warn(\n",
      "C:\\Users\\asmaa mohammed\\AppData\\Roaming\\Python\\Python310\\site-packages\\sklearn\\base.py:450: UserWarning: X does not have valid feature names, but SVR was fitted with feature names\n",
      "  warnings.warn(\n",
      "C:\\Users\\asmaa mohammed\\AppData\\Roaming\\Python\\Python310\\site-packages\\sklearn\\base.py:450: UserWarning: X does not have valid feature names, but SVR was fitted with feature names\n",
      "  warnings.warn(\n",
      "C:\\Users\\asmaa mohammed\\AppData\\Roaming\\Python\\Python310\\site-packages\\sklearn\\base.py:450: UserWarning: X does not have valid feature names, but SVR was fitted with feature names\n",
      "  warnings.warn(\n",
      "C:\\Users\\asmaa mohammed\\AppData\\Roaming\\Python\\Python310\\site-packages\\sklearn\\base.py:450: UserWarning: X does not have valid feature names, but SVR was fitted with feature names\n",
      "  warnings.warn(\n",
      "C:\\Users\\asmaa mohammed\\AppData\\Roaming\\Python\\Python310\\site-packages\\sklearn\\base.py:450: UserWarning: X does not have valid feature names, but SVR was fitted with feature names\n",
      "  warnings.warn(\n",
      "C:\\Users\\asmaa mohammed\\AppData\\Roaming\\Python\\Python310\\site-packages\\sklearn\\base.py:450: UserWarning: X does not have valid feature names, but SVR was fitted with feature names\n",
      "  warnings.warn(\n",
      "C:\\Users\\asmaa mohammed\\AppData\\Roaming\\Python\\Python310\\site-packages\\sklearn\\base.py:450: UserWarning: X does not have valid feature names, but SVR was fitted with feature names\n",
      "  warnings.warn(\n",
      "C:\\Users\\asmaa mohammed\\AppData\\Roaming\\Python\\Python310\\site-packages\\sklearn\\base.py:450: UserWarning: X does not have valid feature names, but SVR was fitted with feature names\n",
      "  warnings.warn(\n",
      "C:\\Users\\asmaa mohammed\\AppData\\Roaming\\Python\\Python310\\site-packages\\sklearn\\base.py:450: UserWarning: X does not have valid feature names, but SVR was fitted with feature names\n",
      "  warnings.warn(\n",
      "C:\\Users\\asmaa mohammed\\AppData\\Roaming\\Python\\Python310\\site-packages\\sklearn\\base.py:450: UserWarning: X does not have valid feature names, but SVR was fitted with feature names\n",
      "  warnings.warn(\n",
      "C:\\Users\\asmaa mohammed\\AppData\\Roaming\\Python\\Python310\\site-packages\\sklearn\\base.py:450: UserWarning: X does not have valid feature names, but SVR was fitted with feature names\n",
      "  warnings.warn(\n",
      "C:\\Users\\asmaa mohammed\\AppData\\Roaming\\Python\\Python310\\site-packages\\sklearn\\base.py:450: UserWarning: X does not have valid feature names, but SVR was fitted with feature names\n",
      "  warnings.warn(\n",
      "C:\\Users\\asmaa mohammed\\AppData\\Roaming\\Python\\Python310\\site-packages\\sklearn\\base.py:450: UserWarning: X does not have valid feature names, but SVR was fitted with feature names\n",
      "  warnings.warn(\n",
      "C:\\Users\\asmaa mohammed\\AppData\\Roaming\\Python\\Python310\\site-packages\\sklearn\\base.py:450: UserWarning: X does not have valid feature names, but SVR was fitted with feature names\n",
      "  warnings.warn(\n",
      "C:\\Users\\asmaa mohammed\\AppData\\Roaming\\Python\\Python310\\site-packages\\sklearn\\base.py:450: UserWarning: X does not have valid feature names, but SVR was fitted with feature names\n",
      "  warnings.warn(\n"
     ]
    },
    {
     "name": "stdout",
     "output_type": "stream",
     "text": [
      "468\n",
      "468\n",
      "468\n",
      "468\n",
      "468\n",
      "468\n",
      "468\n",
      "468\n",
      "468\n"
     ]
    },
    {
     "name": "stderr",
     "output_type": "stream",
     "text": [
      "C:\\Users\\asmaa mohammed\\AppData\\Roaming\\Python\\Python310\\site-packages\\sklearn\\base.py:450: UserWarning: X does not have valid feature names, but SVR was fitted with feature names\n",
      "  warnings.warn(\n",
      "C:\\Users\\asmaa mohammed\\AppData\\Roaming\\Python\\Python310\\site-packages\\sklearn\\base.py:450: UserWarning: X does not have valid feature names, but SVR was fitted with feature names\n",
      "  warnings.warn(\n",
      "C:\\Users\\asmaa mohammed\\AppData\\Roaming\\Python\\Python310\\site-packages\\sklearn\\base.py:450: UserWarning: X does not have valid feature names, but SVR was fitted with feature names\n",
      "  warnings.warn(\n",
      "C:\\Users\\asmaa mohammed\\AppData\\Roaming\\Python\\Python310\\site-packages\\sklearn\\base.py:450: UserWarning: X does not have valid feature names, but SVR was fitted with feature names\n",
      "  warnings.warn(\n",
      "C:\\Users\\asmaa mohammed\\AppData\\Roaming\\Python\\Python310\\site-packages\\sklearn\\base.py:450: UserWarning: X does not have valid feature names, but SVR was fitted with feature names\n",
      "  warnings.warn(\n",
      "C:\\Users\\asmaa mohammed\\AppData\\Roaming\\Python\\Python310\\site-packages\\sklearn\\base.py:450: UserWarning: X does not have valid feature names, but SVR was fitted with feature names\n",
      "  warnings.warn(\n",
      "C:\\Users\\asmaa mohammed\\AppData\\Roaming\\Python\\Python310\\site-packages\\sklearn\\base.py:450: UserWarning: X does not have valid feature names, but SVR was fitted with feature names\n",
      "  warnings.warn(\n",
      "C:\\Users\\asmaa mohammed\\AppData\\Roaming\\Python\\Python310\\site-packages\\sklearn\\base.py:450: UserWarning: X does not have valid feature names, but SVR was fitted with feature names\n",
      "  warnings.warn(\n",
      "C:\\Users\\asmaa mohammed\\AppData\\Roaming\\Python\\Python310\\site-packages\\sklearn\\base.py:450: UserWarning: X does not have valid feature names, but SVR was fitted with feature names\n",
      "  warnings.warn(\n",
      "C:\\Users\\asmaa mohammed\\AppData\\Roaming\\Python\\Python310\\site-packages\\sklearn\\base.py:450: UserWarning: X does not have valid feature names, but SVR was fitted with feature names\n",
      "  warnings.warn(\n",
      "C:\\Users\\asmaa mohammed\\AppData\\Roaming\\Python\\Python310\\site-packages\\sklearn\\base.py:450: UserWarning: X does not have valid feature names, but SVR was fitted with feature names\n",
      "  warnings.warn(\n",
      "C:\\Users\\asmaa mohammed\\AppData\\Roaming\\Python\\Python310\\site-packages\\sklearn\\base.py:450: UserWarning: X does not have valid feature names, but SVR was fitted with feature names\n",
      "  warnings.warn(\n",
      "C:\\Users\\asmaa mohammed\\AppData\\Roaming\\Python\\Python310\\site-packages\\sklearn\\base.py:450: UserWarning: X does not have valid feature names, but SVR was fitted with feature names\n",
      "  warnings.warn(\n",
      "C:\\Users\\asmaa mohammed\\AppData\\Roaming\\Python\\Python310\\site-packages\\sklearn\\base.py:450: UserWarning: X does not have valid feature names, but SVR was fitted with feature names\n",
      "  warnings.warn(\n",
      "C:\\Users\\asmaa mohammed\\AppData\\Roaming\\Python\\Python310\\site-packages\\sklearn\\base.py:450: UserWarning: X does not have valid feature names, but SVR was fitted with feature names\n",
      "  warnings.warn(\n",
      "C:\\Users\\asmaa mohammed\\AppData\\Roaming\\Python\\Python310\\site-packages\\sklearn\\base.py:450: UserWarning: X does not have valid feature names, but SVR was fitted with feature names\n",
      "  warnings.warn(\n",
      "C:\\Users\\asmaa mohammed\\AppData\\Roaming\\Python\\Python310\\site-packages\\sklearn\\base.py:450: UserWarning: X does not have valid feature names, but SVR was fitted with feature names\n",
      "  warnings.warn(\n",
      "C:\\Users\\asmaa mohammed\\AppData\\Roaming\\Python\\Python310\\site-packages\\sklearn\\base.py:450: UserWarning: X does not have valid feature names, but SVR was fitted with feature names\n",
      "  warnings.warn(\n",
      "C:\\Users\\asmaa mohammed\\AppData\\Roaming\\Python\\Python310\\site-packages\\sklearn\\base.py:450: UserWarning: X does not have valid feature names, but SVR was fitted with feature names\n",
      "  warnings.warn(\n",
      "C:\\Users\\asmaa mohammed\\AppData\\Roaming\\Python\\Python310\\site-packages\\sklearn\\base.py:450: UserWarning: X does not have valid feature names, but SVR was fitted with feature names\n",
      "  warnings.warn(\n",
      "C:\\Users\\asmaa mohammed\\AppData\\Roaming\\Python\\Python310\\site-packages\\sklearn\\base.py:450: UserWarning: X does not have valid feature names, but SVR was fitted with feature names\n",
      "  warnings.warn(\n",
      "C:\\Users\\asmaa mohammed\\AppData\\Roaming\\Python\\Python310\\site-packages\\sklearn\\base.py:450: UserWarning: X does not have valid feature names, but SVR was fitted with feature names\n",
      "  warnings.warn(\n",
      "C:\\Users\\asmaa mohammed\\AppData\\Roaming\\Python\\Python310\\site-packages\\sklearn\\base.py:450: UserWarning: X does not have valid feature names, but SVR was fitted with feature names\n",
      "  warnings.warn(\n",
      "C:\\Users\\asmaa mohammed\\AppData\\Roaming\\Python\\Python310\\site-packages\\sklearn\\base.py:450: UserWarning: X does not have valid feature names, but SVR was fitted with feature names\n",
      "  warnings.warn(\n",
      "C:\\Users\\asmaa mohammed\\AppData\\Roaming\\Python\\Python310\\site-packages\\sklearn\\base.py:450: UserWarning: X does not have valid feature names, but SVR was fitted with feature names\n",
      "  warnings.warn(\n",
      "C:\\Users\\asmaa mohammed\\AppData\\Roaming\\Python\\Python310\\site-packages\\sklearn\\base.py:450: UserWarning: X does not have valid feature names, but SVR was fitted with feature names\n",
      "  warnings.warn(\n",
      "C:\\Users\\asmaa mohammed\\AppData\\Roaming\\Python\\Python310\\site-packages\\sklearn\\base.py:450: UserWarning: X does not have valid feature names, but SVR was fitted with feature names\n",
      "  warnings.warn(\n",
      "C:\\Users\\asmaa mohammed\\AppData\\Roaming\\Python\\Python310\\site-packages\\sklearn\\base.py:450: UserWarning: X does not have valid feature names, but SVR was fitted with feature names\n",
      "  warnings.warn(\n"
     ]
    },
    {
     "name": "stdout",
     "output_type": "stream",
     "text": [
      "468\n",
      "468\n",
      "468\n",
      "468\n",
      "468\n",
      "468\n",
      "468\n",
      "468\n",
      "468\n",
      "468\n",
      "468\n",
      "468\n",
      "468\n",
      "Ignoring empty camera frame.\n"
     ]
    },
    {
     "name": "stderr",
     "output_type": "stream",
     "text": [
      "C:\\Users\\asmaa mohammed\\AppData\\Roaming\\Python\\Python310\\site-packages\\sklearn\\base.py:450: UserWarning: X does not have valid feature names, but SVR was fitted with feature names\n",
      "  warnings.warn(\n",
      "C:\\Users\\asmaa mohammed\\AppData\\Roaming\\Python\\Python310\\site-packages\\sklearn\\base.py:450: UserWarning: X does not have valid feature names, but SVR was fitted with feature names\n",
      "  warnings.warn(\n",
      "C:\\Users\\asmaa mohammed\\AppData\\Roaming\\Python\\Python310\\site-packages\\sklearn\\base.py:450: UserWarning: X does not have valid feature names, but SVR was fitted with feature names\n",
      "  warnings.warn(\n",
      "C:\\Users\\asmaa mohammed\\AppData\\Roaming\\Python\\Python310\\site-packages\\sklearn\\base.py:450: UserWarning: X does not have valid feature names, but SVR was fitted with feature names\n",
      "  warnings.warn(\n",
      "C:\\Users\\asmaa mohammed\\AppData\\Roaming\\Python\\Python310\\site-packages\\sklearn\\base.py:450: UserWarning: X does not have valid feature names, but SVR was fitted with feature names\n",
      "  warnings.warn(\n",
      "C:\\Users\\asmaa mohammed\\AppData\\Roaming\\Python\\Python310\\site-packages\\sklearn\\base.py:450: UserWarning: X does not have valid feature names, but SVR was fitted with feature names\n",
      "  warnings.warn(\n",
      "C:\\Users\\asmaa mohammed\\AppData\\Roaming\\Python\\Python310\\site-packages\\sklearn\\base.py:450: UserWarning: X does not have valid feature names, but SVR was fitted with feature names\n",
      "  warnings.warn(\n",
      "C:\\Users\\asmaa mohammed\\AppData\\Roaming\\Python\\Python310\\site-packages\\sklearn\\base.py:450: UserWarning: X does not have valid feature names, but SVR was fitted with feature names\n",
      "  warnings.warn(\n",
      "C:\\Users\\asmaa mohammed\\AppData\\Roaming\\Python\\Python310\\site-packages\\sklearn\\base.py:450: UserWarning: X does not have valid feature names, but SVR was fitted with feature names\n",
      "  warnings.warn(\n",
      "C:\\Users\\asmaa mohammed\\AppData\\Roaming\\Python\\Python310\\site-packages\\sklearn\\base.py:450: UserWarning: X does not have valid feature names, but SVR was fitted with feature names\n",
      "  warnings.warn(\n",
      "C:\\Users\\asmaa mohammed\\AppData\\Roaming\\Python\\Python310\\site-packages\\sklearn\\base.py:450: UserWarning: X does not have valid feature names, but SVR was fitted with feature names\n",
      "  warnings.warn(\n",
      "C:\\Users\\asmaa mohammed\\AppData\\Roaming\\Python\\Python310\\site-packages\\sklearn\\base.py:450: UserWarning: X does not have valid feature names, but SVR was fitted with feature names\n",
      "  warnings.warn(\n",
      "C:\\Users\\asmaa mohammed\\AppData\\Roaming\\Python\\Python310\\site-packages\\sklearn\\base.py:450: UserWarning: X does not have valid feature names, but SVR was fitted with feature names\n",
      "  warnings.warn(\n",
      "C:\\Users\\asmaa mohammed\\AppData\\Roaming\\Python\\Python310\\site-packages\\sklearn\\base.py:450: UserWarning: X does not have valid feature names, but SVR was fitted with feature names\n",
      "  warnings.warn(\n",
      "C:\\Users\\asmaa mohammed\\AppData\\Roaming\\Python\\Python310\\site-packages\\sklearn\\base.py:450: UserWarning: X does not have valid feature names, but SVR was fitted with feature names\n",
      "  warnings.warn(\n",
      "C:\\Users\\asmaa mohammed\\AppData\\Roaming\\Python\\Python310\\site-packages\\sklearn\\base.py:450: UserWarning: X does not have valid feature names, but SVR was fitted with feature names\n",
      "  warnings.warn(\n",
      "C:\\Users\\asmaa mohammed\\AppData\\Roaming\\Python\\Python310\\site-packages\\sklearn\\base.py:450: UserWarning: X does not have valid feature names, but SVR was fitted with feature names\n",
      "  warnings.warn(\n"
     ]
    }
   ],
   "source": [
    "cam = cv2.VideoCapture(\"../mr ben3.mp4\")\n",
    "\n",
    "\n",
    "width = int(cam.get(cv2.CAP_PROP_FRAME_WIDTH))\n",
    "height = int(cam.get(cv2.CAP_PROP_FRAME_HEIGHT))\n",
    "\n",
    "cam.set(cv2.CAP_PROP_FPS, 30)\n",
    "cam.set(cv2.CAP_PROP_FOURCC, cv2.VideoWriter_fourcc(*'MJPG'))\n",
    "\n",
    "mp_face_mesh = mp.solutions.face_mesh\n",
    "mp_drawing = mp.solutions.drawing_utils\n",
    "\n",
    "size = (width, height)\n",
    "i=0 #frame counter\n",
    "frameTime = 1 \n",
    "\n",
    "# Below VideoWriter object will create\n",
    "# a frame of above defined The output \n",
    "# is stored in 'file_name.avi' file.\n",
    "result = cv2.VideoWriter('mr ben.avi', \n",
    "                         cv2.VideoWriter_fourcc(*'MJPG'),\n",
    "                         15, size)\n",
    "\n",
    "All_Images = []\n",
    "with mp_face_mesh.FaceMesh(static_image_mode= False) as mesh_faces:\n",
    "    while cam.isOpened():\n",
    "        \n",
    "        OneImage = []\n",
    "        success = cam.grab() \n",
    "        i=i+1 #increment counter\n",
    "        \n",
    "        if i % 3 == 0: # display only one third of the frames, you can change this parameter according to your needs\n",
    "            \n",
    "            success, frame = cam.retrieve() #decode frame\n",
    "            if not success:\n",
    "                print(\"Ignoring empty camera frame.\")\n",
    "                # If loading a video, use 'break' instead of 'continue'.\n",
    "                break\n",
    "                \n",
    "            # convert BGR image to RGB  before processing\n",
    "            results = mesh_faces.process(cv2.cvtColor(frame, cv2.COLOR_BGR2RGB))    \n",
    "            if results.multi_face_landmarks != None:\n",
    "                for face in results.multi_face_landmarks: \n",
    "                    \n",
    "                    print(len(face.landmark))\n",
    "                    \n",
    "                    # Nose \n",
    "                    nose_x = int(face.landmark[1].x * frame.shape[1])\n",
    "                    nose_y = int(face.landmark[1].y * frame.shape[0])\n",
    "                    \n",
    "                    # chin\n",
    "                    chin_x = int(face.landmark[152].x * frame.shape[1])\n",
    "                    chin_y = int(face.landmark[152].y * frame.shape[0])\n",
    "                    \n",
    "                    # Max Dist\n",
    "                    dist_x = nose_x - chin_x\n",
    "                    dist_y = nose_y - chin_y\n",
    "                    \n",
    "                    dist = np.sqrt(dist_x**2 + dist_y**2)\n",
    "                    \n",
    "                    for landmark in face.landmark:  \n",
    "                        \n",
    "                        x = landmark.x\n",
    "                        y = landmark.y\n",
    "                        \n",
    "                        shape = frame.shape\n",
    "                        \n",
    "                        relative_x = int(x * shape[1])\n",
    "                        relative_y = int(y * shape[0])\n",
    "                        \n",
    "                        OneImage.append((relative_x- nose_x) / dist)\n",
    "                        OneImage.append((relative_y- nose_y) / dist)\n",
    "                        \n",
    "                All_Images.append(OneImage)                     \n",
    "                if cv2.waitKey(frameTime) & 0xff == ord('q'):\n",
    "                    break\n",
    "                    \n",
    "                svr1_pred = svm_model1.predict(np.array(OneImage).reshape(1,-1))\n",
    "                svr2_pred = svm_model2.predict(np.array(OneImage).reshape(1,-1))\n",
    "                svr3_pred = svm_model3.predict(np.array(OneImage).reshape(1,-1))\n",
    "                \n",
    "                cv2.imshow('HelloWorld', draw_axis(frame, svr1_pred, svr2_pred, svr3_pred, tdx=nose_x, tdy=nose_y, size = 100))\n",
    "                \n",
    "                if success == True: \n",
    "                    \n",
    "                    result.write(frame)\n",
    "\n",
    "                    \n",
    "cam.release()\n",
    "cv2.destroyAllWindows()\n",
    "result.release()"
   ]
  },
  {
   "cell_type": "code",
   "execution_count": 55,
   "id": "u4GQgBjtGm2V",
   "metadata": {
    "colab": {
     "base_uri": "https://localhost:8080/",
     "height": 17
    },
    "executionInfo": {
     "elapsed": 7,
     "status": "ok",
     "timestamp": 1677009229605,
     "user": {
      "displayName": "asmaa m.mansour",
      "userId": "08012431486127069488"
     },
     "user_tz": -120
    },
    "id": "u4GQgBjtGm2V",
    "outputId": "0aa91ca3-c6cd-4cdc-e56a-20a9822900d2",
    "scrolled": true
   },
   "outputs": [],
   "source": [
    "# from google.colab import files\n",
    "# files.download('asmaa2.avi')"
   ]
  }
 ],
 "metadata": {
  "colab": {
   "provenance": [
    {
     "file_id": "1gNzzLm3v7UfDBCJJsMH8pWpinVqzQVHn",
     "timestamp": 1676682689071
    }
   ]
  },
  "kernelspec": {
   "display_name": "Python 3 (ipykernel)",
   "language": "python",
   "name": "python3"
  },
  "language_info": {
   "codemirror_mode": {
    "name": "ipython",
    "version": 3
   },
   "file_extension": ".py",
   "mimetype": "text/x-python",
   "name": "python",
   "nbconvert_exporter": "python",
   "pygments_lexer": "ipython3",
   "version": "3.10.3"
  }
 },
 "nbformat": 4,
 "nbformat_minor": 5
}
